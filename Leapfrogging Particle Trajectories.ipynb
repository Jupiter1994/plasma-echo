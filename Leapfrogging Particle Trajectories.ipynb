{
 "cells": [
  {
   "cell_type": "code",
   "execution_count": 1,
   "id": "229d28c8",
   "metadata": {},
   "outputs": [],
   "source": [
    "# import packages\n",
    "import numpy as np\n",
    "# import scipy.integrate as integrate\n",
    "# from sympy import *\n",
    "import time\n",
    "\n",
    "import matplotlib.pyplot as plt\n",
    "import matplotlib.colors as colors\n",
    "import matplotlib.animation as animation\n",
    "\n",
    "from matplotlib import cm\n",
    "from matplotlib.ticker import LinearLocator\n",
    "## set default plot size\n",
    "plt.rcParams[\"figure.figsize\"] = (10, 7)\n",
    "## set global font size\n",
    "plt.rcParams.update({'font.size':14})\n",
    "\n",
    "# import astropy.units as u\n",
    "from astropy import constants as const\n",
    "\n",
    "from scipy.interpolate import interp1d\n"
   ]
  },
  {
   "cell_type": "markdown",
   "id": "4aaf0f49",
   "metadata": {},
   "source": [
    "# Leapfrogging Particle Trajectories\n",
    "\n",
    "This notebook focuses on computing and animating the trajectories of individual particles within our two-hammer potential rather than the full solution $\\delta f$. I will do this in two ways:\n",
    "1. By using the analytical solution to Hamilton's equations, assuming two delta-function perturbations.\n",
    "2. By numerically solving Hamilton's equations, which won't necessarily assume delta-function perturbations."
   ]
  },
  {
   "cell_type": "code",
   "execution_count": null,
   "id": "a67516b9",
   "metadata": {},
   "outputs": [],
   "source": []
  }
 ],
 "metadata": {
  "kernelspec": {
   "display_name": "Python 3",
   "language": "python",
   "name": "python3"
  },
  "language_info": {
   "codemirror_mode": {
    "name": "ipython",
    "version": 3
   },
   "file_extension": ".py",
   "mimetype": "text/x-python",
   "name": "python",
   "nbconvert_exporter": "python",
   "pygments_lexer": "ipython3",
   "version": "3.9.5"
  }
 },
 "nbformat": 4,
 "nbformat_minor": 5
}
