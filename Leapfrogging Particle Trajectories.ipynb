{
 "cells": [
  {
   "cell_type": "code",
   "execution_count": null,
   "id": "c31b2f52",
   "metadata": {},
   "outputs": [],
   "source": [
    "# import packages\n",
    "import numpy as np\n",
    "# import scipy.integrate as integrate\n",
    "# from sympy import *\n",
    "import time\n",
    "\n",
    "import matplotlib.pyplot as plt\n",
    "import matplotlib.colors as colors\n",
    "import matplotlib.animation as animation\n",
    "\n",
    "from matplotlib import cm\n",
    "from matplotlib.ticker import LinearLocator\n",
    "## set default plot size\n",
    "plt.rcParams[\"figure.figsize\"] = (10, 7)\n",
    "# plt.rcParams[\"figure.dpi\"] = 300\n",
    "plt.rcParams[\"figure.dpi\"] = 72\n",
    "## set global font size\n",
    "plt.rcParams.update({'font.size':14})\n",
    "\n",
    "# import astropy.units as u\n",
    "from astropy import constants as const\n",
    "\n",
    "from scipy.interpolate import interp1d\n",
    "import scipy.stats\n"
   ]
  },
  {
   "cell_type": "markdown",
   "id": "53424841",
   "metadata": {},
   "source": [
    "# Leapfrogging Particle Trajectories\n",
    "\n",
    "This notebook focuses on computing and animating the trajectories of individual particles within our two-hammer potential rather than the full solution $\\delta f$. I will do this by numerically solving Hamilton's equations, which won't necessarily assume delta-function perturbations."
   ]
  },
  {
   "cell_type": "markdown",
   "id": "e4a156d2",
   "metadata": {},
   "source": [
    "# Hamilton's equations"
   ]
  },
  {
   "cell_type": "markdown",
   "id": "0ae824ff",
   "metadata": {},
   "source": [
    "We still consider a two-hammer, isothermal slab potential. However, let's rewrite the hammers such that they're Gaussians in time (rather than delta functions). Let $\\sigma_t$ characterizes the timescale of the interaction. For now, let's set $\\sigma_t = 0.01$. (If a galaxy travels vertically through the MWG at ~1000 km/s, then $\\sigma_t \\sim 0.03$.) A normalized Gaussian function has the form\n",
    "\n",
    "$$g(x) = \\frac{1}{\\sigma\\sqrt{2\\pi}} \\text{exp}\\left(-\\frac{(x-\\mu)^2}{2\\sigma^2} \\right) $$\n",
    "\n",
    "Then the dimensionless Hamilton's equations are\n",
    "\n",
    "$$ \\frac{d\\theta}{dt} = \\frac{\\partial \\mathcal{H} }{\\partial J} = \\Omega(J) = \\frac{1}{\\sqrt{2}} \\left[1+\\frac{3\\sqrt{2}}{\\pi^2}J\\right]^{-1/3} $$\n",
    "$$ \\frac{d J}{dt} = - \\frac{\\partial \\mathcal{H} }{\\partial \\theta} = n_1 A_1 \\sin(n_1\\theta) \\cdot \\frac{1}{\\sigma_t \\sqrt{2\\pi}} \\text{exp}\\left(-\\frac{(t-t_1)^2}{2\\sigma_t^2} \\right) + n_2 A_2 \\sin(n_2 \\theta) \\cdot \\frac{1}{\\sigma_t \\sqrt{2\\pi}} \\text{exp}\\left(-\\frac{(t-t_2)^2}{2\\sigma_t^2} \\right) $$"
   ]
  },
  {
   "cell_type": "markdown",
   "id": "0c8a96d0",
   "metadata": {},
   "source": [
    "### Draw from an arbitrary distribution"
   ]
  },
  {
   "cell_type": "markdown",
   "id": "e412cfeb",
   "metadata": {},
   "source": [
    "Source: https://stackoverflow.com/a/64288861"
   ]
  },
  {
   "cell_type": "code",
   "execution_count": null,
   "id": "c883edb0",
   "metadata": {
    "code_folding": [
     0
    ]
   },
   "outputs": [],
   "source": [
    "def inverse_sample_decorator(dist):\n",
    "    \n",
    "    # for now, set our maximum J to 40\n",
    "    def wrapper(pnts, x_min=0, x_max=40, n=1e5, **kwargs):\n",
    "        \n",
    "        x = np.linspace(x_min, x_max, int(n))\n",
    "        cumulative = np.cumsum(dist(x, **kwargs))\n",
    "        cumulative -= cumulative.min()\n",
    "        f = interp1d(cumulative/cumulative.max(), x)\n",
    "        return f(np.random.random(pnts))\n",
    "    \n",
    "    return wrapper"
   ]
  },
  {
   "cell_type": "code",
   "execution_count": null,
   "id": "3b4fd284",
   "metadata": {
    "code_folding": [
     0
    ]
   },
   "outputs": [],
   "source": [
    "## define the slab Omega, Hamiltonian, and f0(J)\n",
    "\n",
    "def compute_Omega(J):\n",
    "    '''\n",
    "    Represents (dimensionless) Omega(J). We use Omega = a/(1 + b*J)^(1/3)\n",
    "    \n",
    "    '''\n",
    "    \n",
    "    a = 1. / np.sqrt(2)\n",
    "    b = 3 * np.sqrt(2) / pow(np.pi,2)\n",
    "\n",
    "    return a * pow(1 + b*J, -1/3)\n",
    "\n",
    "def Hamiltonian(J):\n",
    "    '''\n",
    "    Computes the Hamiltonian of our system by integrating Omega(J)\n",
    "    from 0 to J. (Underneath Eq. 8 in Scott's paper, it's stated that\n",
    "    Omega = dH/dJ.) We assume that Omega=0 for H=0.\n",
    "    \n",
    "    We use Omega = a/(1 + b*J)^(1/3) and its analytical antiderivative.\n",
    "    \n",
    "    '''\n",
    "    \n",
    "    term1 = np.pi**2 / 4\n",
    "    b = 3*np.sqrt(2) / (np.pi**2)\n",
    "    \n",
    "    term2 = (1 + b*J)**(2/3)\n",
    "    return term1 * term2\n",
    "\n",
    "\n",
    "def f_0(J): \n",
    "    '''\n",
    "    Initial distribution function of our system, using Eq. 6 of Scott's\n",
    "    paper.\n",
    "    \n",
    "    '''\n",
    "    \n",
    "    return np.exp(-1*Hamiltonian(J)) / np.sqrt(2 * np.pi)\n",
    "\n",
    "@inverse_sample_decorator\n",
    "def f_0_distro(J): \n",
    "    '''\n",
    "    The version of f_0(J) we use to perform inverse transform sampling.\n",
    "    \n",
    "    '''\n",
    "    \n",
    "    return np.exp(-1*Hamiltonian(J)) / np.sqrt(2 * np.pi)"
   ]
  },
  {
   "cell_type": "markdown",
   "id": "761c9024",
   "metadata": {},
   "source": [
    "## convert from $(\\theta, J)$ to $(z,v_z)$"
   ]
  },
  {
   "cell_type": "code",
   "execution_count": null,
   "id": "b02ebade",
   "metadata": {},
   "outputs": [],
   "source": [
    "## basic function for converting (thetas, Js) to (x_vals, y_vals)\n",
    "\n",
    "def pol2cart(thetas, Js):\n",
    "    '''\n",
    "    Given a set of angles and actions (thetas, Js), return the \n",
    "    corresponding Cartesian coordinates.\n",
    "    \n",
    "    '''\n",
    "    \n",
    "    zs = np.sqrt(Js) * np.sin(thetas)\n",
    "    vzs = np.sqrt(Js) * np.cos(thetas)\n",
    "    \n",
    "    return zs, vzs"
   ]
  },
  {
   "cell_type": "markdown",
   "id": "1387cea0",
   "metadata": {},
   "source": [
    "# Outline\n",
    "\n",
    "Let N be the number of particles I'm simulating. (I should test N=1, 10, 100, ...). Our plan is:\n",
    "\n",
    "1. Keep two N-length arrays, one representing the $\\theta$'s of all the particles and one representing all the $J$'s at a certain timepoint $t_i$.\n",
    "2. Keep an array with timepoints, e.g., `ts = np.arange(0, 300, 0.5)`.\n",
    "3. Set the initial conditions. Each $J_0$ should be in $(0, 20)$, while each $\\theta_0$ should be in $[0, 2\\pi)$.\n",
    "4. **Use leapfrog to update $\\theta$, $J$, and $\\Omega(J)$ at every timestep.** (This step differs from simply evolving the trajectories given hammer perturbations.)"
   ]
  },
  {
   "cell_type": "code",
   "execution_count": null,
   "id": "f7209d64",
   "metadata": {},
   "outputs": [],
   "source": [
    "## define hammer params, phase space range\n",
    "\n",
    "# define the parameters of the two hammers (t_i, n_i, A_i)\n",
    "t1, t2 = 0, 100\n",
    "n1, n2 = 1, 3\n",
    "A1, A2 = 0.1, 0.2\n",
    "\n",
    "# define ts, thetas, and Js; and, corresponding Cartesian coords\n",
    "N = (int) (1e5) # number of particles\n",
    "\n",
    "# time range\n",
    "tmin = 0\n",
    "tmax = 200\n",
    "tstep = 0.05\n",
    "ts = np.arange(tmin, tmax+tstep, tstep)\n",
    "\n",
    "# Monte Carlo sample our initial conditions\n",
    "np.random.seed(2)\n",
    "thetas = (2*np.pi) *np.random.rand(N)\n",
    "Js = f_0_distro(N) # drawn from f_0(J)\n",
    "\n",
    "# initial Omega values\n",
    "Omegas = compute_Omega(Js)\n",
    "\n",
    "# convert to z, v_z\n",
    "zs, vzs = pol2cart(thetas, Js)\n"
   ]
  },
  {
   "cell_type": "markdown",
   "id": "51470c09",
   "metadata": {},
   "source": [
    "To calculate $\\delta n / n_0$ at a certain position ($z=z'$), we'll define the quantity $n(t)$ as the spatial density at that point. Here, we approximate $n(t)$ as the number of particles in a certain z bin divided by the width of the bin. By definition, $n(0) = n_0$, i.e., the background or equilibrium value.\n",
    "\n",
    "Therefore:\n",
    "\n",
    "$$\\frac{\\delta n}{n_0} \\Big|_{z=z'} = \\frac{n(t) - n(0^-)}{n(0)}\\Big|_{z=z'}.$$"
   ]
  },
  {
   "cell_type": "code",
   "execution_count": null,
   "id": "1fc11430",
   "metadata": {},
   "outputs": [],
   "source": [
    "# calculate n_0 and plot initial condition\n",
    "z_tolerance = 5e-2\n",
    "plot_initial_distro = True\n",
    "\n",
    "fig = plt.figure(figsize=(10,10))\n",
    "scat = plt.scatter(zs, vzs, alpha=0.02)\n",
    "\n",
    "# number of particles at t=0 within z_tolerance at a z coordinate; this is the\n",
    "# \"background\" distribution\n",
    "z_offset = 1\n",
    "n_0 = np.sum(np.abs(zs - z_offset) < z_tolerance)\n",
    "print(f'n_0 = {n_0}')\n",
    "\n",
    "if plot_initial_distro:\n",
    "\n",
    "    xlimit = 12\n",
    "    ylimit = 5\n",
    "    plt.xlim(-xlimit, xlimit)\n",
    "    plt.ylim(-ylimit, ylimit)\n",
    "\n",
    "    plt.xlabel(r\"$z$\")\n",
    "    plt.ylabel(r\"$v_z$\")\n",
    "\n",
    "    plt.title('Particles right before hammer 1')\n",
    "\n",
    "    plt.show()"
   ]
  },
  {
   "cell_type": "markdown",
   "id": "7d564875",
   "metadata": {},
   "source": [
    "# Animation"
   ]
  },
  {
   "cell_type": "code",
   "execution_count": null,
   "id": "ef7ba53b",
   "metadata": {
    "code_folding": [
     0,
     11
    ]
   },
   "outputs": [],
   "source": [
    "def dtheta_dt(J):\n",
    "    \n",
    "    '''\n",
    "    Represents the RHS of dtheta / dt = dH/dJ = Omega(J) for a given\n",
    "    J and at a given timepoint t. (Since Omega is independent of t,\n",
    "    I will omit t as a funciton parameter.)\n",
    "    \n",
    "    '''\n",
    "    \n",
    "    return compute_Omega(J)\n",
    "\n",
    "def dJ_dt(theta, t):\n",
    "    '''\n",
    "    \n",
    "    Represents the RHS of dJ / dt = -dH/dtheta for a given\n",
    "    theta and at a given timepoint t. Used in leapfrog.\n",
    "    \n",
    "    '''\n",
    "    sigma_t = 0.01 # timescale of interaction\n",
    "    \n",
    "    hammer1 = n1 * A1 * np.sin(n1 * theta) * scipy.stats.norm.pdf(t, loc=t1, scale=sigma_t)\n",
    "    hammer2 = n2 * A2 * np.sin(n2 * theta) * scipy.stats.norm.pdf(t, loc=t2, scale=sigma_t)\n",
    "    \n",
    "    return hammer1 + hammer2"
   ]
  },
  {
   "cell_type": "code",
   "execution_count": null,
   "id": "618873c1",
   "metadata": {
    "code_folding": [],
    "scrolled": true
   },
   "outputs": [],
   "source": [
    "# make the animation\n",
    "make_animation=True\n",
    "\n",
    "fig = plt.figure(figsize=(10,10))\n",
    "scat = plt.scatter(zs, vzs, alpha=0.02)\n",
    "zs, vzs = pol2cart(thetas, Js)\n",
    "\n",
    "xlimit = 12\n",
    "ylimit = 5\n",
    "plt.xlim(-xlimit, xlimit)\n",
    "plt.ylim(-ylimit, ylimit)\n",
    "plt.xlabel(r\"$z$\")\n",
    "plt.ylabel(r\"$v_z$\")\n",
    "\n",
    "\n",
    "# the \"density\" at z=0 (in practice, the number of points near z=0) as a function of time\n",
    "delta_n_over_ns = []\n",
    "\n",
    "start = time.time()\n",
    "\n",
    "# simulating pointers with a dictionary... not ideal but we'll see if it works\n",
    "# source: https://realpython.com/pointers-in-python/#using-python-objects\n",
    "# WARNING: editing these variables' contents also edits the contents of thetas, Js\n",
    "variables = {\"hammer1_has_hit\": False, \"hammer2_has_hit\": False, \\\n",
    "             \"thetas\": thetas, \"Js\": Js, \"J_halfs\": np.empty_like(Js), \"Omegas\": Omegas}\n",
    "\n",
    "def updatefig(i):\n",
    "    t = ts[i]\n",
    "    \n",
    "    if ((t % 10) == 0):\n",
    "        print(\"t = \" + str(t))\n",
    "        print(f'Elapsed t: {np.round(time.time() - start, 1)} seconds')\n",
    "\n",
    "    ## move negative-J particles to J~0 orbits\n",
    "    move_negative_J_particles = True\n",
    "        \n",
    "    # calculate next thetas, Js using leapfrog\n",
    "    # 1. kick\n",
    "    variables[\"J_halfs\"] = variables[\"Js\"] + (dJ_dt(variables[\"thetas\"], t)*tstep/2)\n",
    "    # move negative-J_half particles to J=0 orbits\n",
    "    J_half_is_negative = (variables[\"J_halfs\"] < 0)\n",
    "    if move_negative_J_particles:\n",
    "        variables[\"J_halfs\"][J_half_is_negative] = 0\n",
    "    \n",
    "    # 2. drift\n",
    "    thetas_next_step = variables[\"thetas\"] + dtheta_dt(variables[\"J_halfs\"])*tstep\n",
    "    thetas_next_step = np.mod(thetas_next_step, 2*np.pi)\n",
    "    \n",
    "    # 3. kick\n",
    "    Js_next_step = variables[\"J_halfs\"] + (dJ_dt(thetas_next_step, t+tstep)*tstep/2)\n",
    "\n",
    "    # update thetas, Js\n",
    "    variables[\"thetas\"] = thetas_next_step\n",
    "    variables[\"Js\"] = Js_next_step\n",
    "    \n",
    "    ## move negative-J particles to J=0 orbits\n",
    "    J_is_negative = (variables[\"Js\"] < 0)\n",
    "    if move_negative_J_particles:\n",
    "        variables[\"Js\"][J_is_negative] = 0\n",
    "    \n",
    "    ## convert coordinates to (z, v_z)\n",
    "    hide_negative_J_particles = False\n",
    "    if hide_negative_J_particles:\n",
    "        zs, vzs = pol2cart(variables[\"thetas\"][~J_is_negative], \n",
    "                           variables[\"Js\"][~J_is_negative])\n",
    "    else:\n",
    "        zs, vzs = pol2cart(variables[\"thetas\"], \n",
    "                           variables[\"Js\"])\n",
    "    \n",
    "    ## compute delta n / n_0, ie, number density contrast\n",
    "    \n",
    "    # number of particles at t=0 within z_tolerance of our selected z coordinate\n",
    "    n_t = np.sum(np.abs(zs - z_offset) < z_tolerance)\n",
    "    delta_n_over_n = (n_t - n_0) / n_0\n",
    "    delta_n_over_ns.append(delta_n_over_n)\n",
    "    \n",
    "    # make plot\n",
    "    data = np.transpose((zs, vzs))\n",
    "    scat.set_offsets(data)\n",
    "    plt.legend(title=f\"t={t:.2g}\", loc='upper left', labelspacing=0.)\n",
    "    \n",
    "    save_fig = False\n",
    "    if save_fig:\n",
    "    # save figure at certain snapshots\n",
    "        if t in ts_for_savefig:\n",
    "            plt.savefig(\\\n",
    "        f'Leapfrogging trajectories (thesis)/Leapfrog_trajs_t={t:.2g}.png', dpi=300)\n",
    "            \n",
    "    return scat,\n",
    "\n",
    "\n",
    "make_animation = True\n",
    "if make_animation:\n",
    "    ani = animation.FuncAnimation(fig, updatefig, interval=100, frames=len(ts), \\\n",
    "            blit=True)\n",
    "    ani.save(\"Leapfrogged_trajectories_temp.mp4\")"
   ]
  },
  {
   "cell_type": "code",
   "execution_count": null,
   "id": "27ff152f",
   "metadata": {},
   "outputs": [],
   "source": [
    "print(\"Number of particles at J=0:\")\n",
    "print(np.sum(variables[\"Js\"] == 0))"
   ]
  },
  {
   "cell_type": "code",
   "execution_count": null,
   "id": "f6535c7b",
   "metadata": {
    "scrolled": true
   },
   "outputs": [],
   "source": [
    "# calculate delta_n_over_ns array, avoiding the animation\n",
    "start = time.time()\n",
    "delta_n_over_ns = []\n",
    "\n",
    "# define a longer time range than in the animation\n",
    "tmin = 0\n",
    "tmax = 250\n",
    "tstep = 0.05\n",
    "ts = np.arange(tmin, tmax+tstep, tstep)\n",
    "\n",
    "for i in range(len(ts)):\n",
    "    updatefig(i)"
   ]
  },
  {
   "cell_type": "code",
   "execution_count": null,
   "id": "1cce5772",
   "metadata": {
    "scrolled": false
   },
   "outputs": [],
   "source": [
    "plt.plot(ts, delta_n_over_ns)\n",
    "\n",
    "plt.xlabel('t')\n",
    "plt.ylabel('$\\delta n/n_0$')\n",
    "plt.title(f'Density contrast at z={z_offset}, z_tolerance={z_tolerance}')\n",
    "\n",
    "save_fig = True\n",
    "if save_fig:\n",
    "    plt.savefig(f'leapfrog_deltan_N={N:.1E}.png')\n",
    "plt.show()"
   ]
  },
  {
   "cell_type": "code",
   "execution_count": null,
   "id": "00b05ef3",
   "metadata": {},
   "outputs": [],
   "source": []
  }
 ],
 "metadata": {
  "kernelspec": {
   "display_name": "Python 3",
   "language": "python",
   "name": "python3"
  },
  "language_info": {
   "codemirror_mode": {
    "name": "ipython",
    "version": 3
   },
   "file_extension": ".py",
   "mimetype": "text/x-python",
   "name": "python",
   "nbconvert_exporter": "python",
   "pygments_lexer": "ipython3",
   "version": "3.9.5"
  }
 },
 "nbformat": 4,
 "nbformat_minor": 5
}
