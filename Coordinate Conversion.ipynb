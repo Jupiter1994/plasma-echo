{
 "cells": [
  {
   "cell_type": "markdown",
   "id": "11cfe96f",
   "metadata": {},
   "source": [
    "I'll use this notebook to implement and test a numerical tool for converting from action-angle coordinates to Cartesian coordinates."
   ]
  },
  {
   "cell_type": "code",
   "execution_count": 12,
   "id": "a3ae243a",
   "metadata": {},
   "outputs": [],
   "source": [
    "# import packages\n",
    "import numpy as np\n",
    "import scipy.integrate as integrate\n",
    "import scipy.misc\n",
    "import time\n",
    "\n",
    "import matplotlib.pyplot as plt\n",
    "import matplotlib.colors as colors\n",
    "import matplotlib.animation as animation\n",
    "\n",
    "from matplotlib import cm\n",
    "from matplotlib.ticker import LinearLocator\n",
    "## set default plot size\n",
    "plt.rcParams[\"figure.figsize\"] = (10, 7)\n",
    "## set global font size\n",
    "plt.rcParams.update({'font.size':14})\n",
    "\n",
    "import astropy.units as u\n",
    "from astropy import constants as const\n",
    "\n",
    "import scipy.integrate as integrate"
   ]
  },
  {
   "cell_type": "markdown",
   "id": "36db36d1",
   "metadata": {},
   "source": [
    "# Step 1: Derive $J(E)$"
   ]
  },
  {
   "cell_type": "code",
   "execution_count": 8,
   "id": "9c9a64a2",
   "metadata": {},
   "outputs": [
    {
     "data": {
      "text/plain": [
       "11013.232920103323"
      ]
     },
     "execution_count": 8,
     "metadata": {},
     "output_type": "execute_result"
    }
   ],
   "source": [
    "np.cosh(-10)"
   ]
  },
  {
   "cell_type": "code",
   "execution_count": 27,
   "id": "5555f645",
   "metadata": {
    "code_folding": [
     0
    ]
   },
   "outputs": [],
   "source": [
    "## define Phi, positive v_z, and J(E)\n",
    "def Phi(z):\n",
    "    '''\n",
    "    Represents the (dimensionless) slab potential.\n",
    "    \n",
    "    '''\n",
    "    \n",
    "    return 2 * np.log(np.cosh(z / 2))\n",
    "\n",
    "def v_z_positive(z, E):\n",
    "    '''\n",
    "    Represents the (positive) v_z corresponding to a given z and E; i.e.,\n",
    "    v_z = +sqrt[2*(E-Phi(z))]. \n",
    "    \n",
    "    '''\n",
    "    \n",
    "    return np.sqrt(2*(E-Phi(z)))\n",
    "\n",
    "def J_E(E): \n",
    "    '''\n",
    "    Returns the numerical value of J corresponding to a given energy E.\n",
    "    \n",
    "    '''\n",
    "    \n",
    "    z_max = 2 * np.arccosh( np.exp(E/2) )\n",
    "    return (2 / np.pi) * integrate.quad(v_z_positive, 0, z_max, args=(E))[0]"
   ]
  },
  {
   "cell_type": "code",
   "execution_count": 30,
   "id": "87d38951",
   "metadata": {
    "scrolled": true
   },
   "outputs": [
    {
     "data": {
      "image/png": "[encoded data removed]",
      "text/plain": [
       "<Figure size 720x504 with 1 Axes>"
      ]
     },
     "metadata": {
      "needs_background": "light"
     },
     "output_type": "display_data"
    }
   ],
   "source": [
    "Es = np.arange(0.1, 10, 0.5)\n",
    "\n",
    "J_E_vectorized = np.vectorize(J_E)\n",
    "\n",
    "plt.plot(Es, J_E_vectorized(Es))\n",
    "plt.xlabel(\"E\")\n",
    "plt.ylabel(\"J\")\n",
    "\n",
    "plt.title(\"Numerically calculated $J(E)$\")\n",
    "plt.show()"
   ]
  },
  {
   "cell_type": "markdown",
   "id": "b70a7dab",
   "metadata": {},
   "source": [
    "# Step 2: Derive $E(J)$"
   ]
  },
  {
   "cell_type": "markdown",
   "id": "903d49ad",
   "metadata": {},
   "source": [
    "We'll have to invert J(E) from the previous step."
   ]
  },
  {
   "cell_type": "code",
   "execution_count": null,
   "id": "04039192",
   "metadata": {},
   "outputs": [],
   "source": []
  }
 ],
 "metadata": {
  "kernelspec": {
   "display_name": "Python 3",
   "language": "python",
   "name": "python3"
  },
  "language_info": {
   "codemirror_mode": {
    "name": "ipython",
    "version": 3
   },
   "file_extension": ".py",
   "mimetype": "text/x-python",
   "name": "python",
   "nbconvert_exporter": "python",
   "pygments_lexer": "ipython3",
   "version": "3.9.5"
  }
 },
 "nbformat": 4,
 "nbformat_minor": 5
}
