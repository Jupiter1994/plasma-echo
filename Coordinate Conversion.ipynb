{
 "cells": [
  {
   "cell_type": "markdown",
   "id": "11cfe96f",
   "metadata": {},
   "source": [
    "I'll use this notebook to implement and test a numerical tool for converting from action-angle coordinates to Cartesian coordinates."
   ]
  },
  {
   "cell_type": "code",
   "execution_count": 1,
   "id": "a3ae243a",
   "metadata": {
    "code_folding": []
   },
   "outputs": [],
   "source": [
    "# import packages\n",
    "import numpy as np\n",
    "import scipy.integrate as integrate\n",
    "import scipy.misc\n",
    "import time\n",
    "\n",
    "import matplotlib.pyplot as plt\n",
    "import matplotlib.colors as colors\n",
    "import matplotlib.animation as animation\n",
    "\n",
    "from matplotlib import cm\n",
    "from matplotlib.ticker import LinearLocator\n",
    "## set default plot size\n",
    "plt.rcParams[\"figure.figsize\"] = (10, 7)\n",
    "## set global font size\n",
    "plt.rcParams.update({'font.size':14})\n",
    "\n",
    "import astropy.units as u\n",
    "from astropy import constants as const\n",
    "\n",
    "import scipy.integrate as integrate \n",
    "import scipy.optimize as optimize"
   ]
  },
  {
   "cell_type": "markdown",
   "id": "36db36d1",
   "metadata": {},
   "source": [
    "# Step 1: Derive $J(E)$"
   ]
  },
  {
   "cell_type": "code",
   "execution_count": 2,
   "id": "5555f645",
   "metadata": {
    "code_folding": []
   },
   "outputs": [],
   "source": [
    "## define Phi, positive v_z, and J(E)\n",
    "def Phi(z):\n",
    "    '''\n",
    "    Represents the (dimensionless) slab potential.\n",
    "    \n",
    "    '''\n",
    "    \n",
    "    return 2 * np.log(np.cosh(z / 2))\n",
    "\n",
    "def v_z_positive(z, E):\n",
    "    '''\n",
    "    Represents the (positive) v_z corresponding to a given z and E; i.e.,\n",
    "    v_z = +sqrt[2*(E-Phi(z))]. \n",
    "    \n",
    "    '''\n",
    "    \n",
    "    return np.sqrt(2*(E-Phi(z)))\n",
    "\n",
    "def one_over_v_z_positive(z, E):\n",
    "    '''\n",
    "    Represents 1/v_z.\n",
    "    \n",
    "    '''\n",
    "    \n",
    "    return 1 / np.sqrt(2*(E-Phi(z)))\n",
    "\n",
    "def J_E(E): \n",
    "    '''\n",
    "    Returns the numerical value of J corresponding to a given energy E.\n",
    "    \n",
    "    '''\n",
    "    \n",
    "    z_max = 2 * np.arccosh( np.exp(E/2) )\n",
    "    return (2 / np.pi) * integrate.quad(v_z_positive, 0, z_max, args=(E))[0]"
   ]
  },
  {
   "cell_type": "code",
   "execution_count": 3,
   "id": "87d38951",
   "metadata": {
    "scrolled": true
   },
   "outputs": [
    {
     "data": {
      "image/png": "[encoded data removed]",
      "text/plain": [
       "<Figure size 720x504 with 1 Axes>"
      ]
     },
     "metadata": {
      "needs_background": "light"
     },
     "output_type": "display_data"
    }
   ],
   "source": [
    "E_step = 0.1\n",
    "Es = np.arange(0., 20+E_step, E_step)\n",
    "\n",
    "J_E_vectorized = np.vectorize(J_E)\n",
    "\n",
    "plt.plot(Es, J_E_vectorized(Es))\n",
    "plt.xlabel(\"E\")\n",
    "plt.ylabel(\"J\")\n",
    "\n",
    "plt.title(\"Numerically calculated $J(E)$\")\n",
    "plt.show()"
   ]
  },
  {
   "cell_type": "markdown",
   "id": "b70a7dab",
   "metadata": {},
   "source": [
    "# Step 2: Derive $E(J)$"
   ]
  },
  {
   "cell_type": "markdown",
   "id": "903d49ad",
   "metadata": {},
   "source": [
    "We'll use root finding to find $E(J)$; i.e., this is a method to get $E$ given a certain action $J$. This means finding the root $E$ of $J(E) - J' = 0$ for an arbitrary action $J'$."
   ]
  },
  {
   "cell_type": "code",
   "execution_count": 4,
   "id": "f988b3c8",
   "metadata": {},
   "outputs": [],
   "source": [
    "def J_E_minus_J_prime(E, J_prime):\n",
    "    '''\n",
    "    The function we'll apply root-finding to in order to derive E(J).\n",
    "    \n",
    "    '''\n",
    "    \n",
    "    return J_E(E) - J_prime\n",
    "\n",
    "def E_J(J):\n",
    "    '''\n",
    "    Use root-finding to find the energy (E) corresponding to J.\n",
    "    \n",
    "    '''\n",
    "    \n",
    "    sol = optimize.root_scalar(J_E_minus_J_prime, args=(J), bracket=[0,100])\n",
    "    return sol.root"
   ]
  },
  {
   "cell_type": "markdown",
   "id": "e153132b",
   "metadata": {},
   "source": [
    "# Step 3: Find $z$"
   ]
  },
  {
   "cell_type": "markdown",
   "id": "0aec088d",
   "metadata": {},
   "source": [
    "We'll use root-finding to solve an implicit equation for $z$. The exact equation will depend on which quadrant of phase space we're in, but it will generally look like: [integral depending on $z$] - $\\frac{\\theta}{\\Omega(J)}$ - [some other constant] = 0."
   ]
  },
  {
   "cell_type": "code",
   "execution_count": 250,
   "id": "6f1c7d13",
   "metadata": {
    "code_folding": []
   },
   "outputs": [],
   "source": [
    "## define Omega(J)\n",
    "def Omega(J):\n",
    "    '''\n",
    "    \n",
    "    Eq. 8 of Tremaine et al. (2023); orbital frequency.\n",
    "    \n",
    "    Here, we interpolate between the low-J and high-J regimes for Omega.\n",
    "    The interpolated function has form a / (1 + b*J)^{1/3}. \n",
    "    \n",
    "    In this function, J is dimensionless. J=1 corresponds to sigma*z_0 in\n",
    "    physical units.\n",
    "    \n",
    "    '''\n",
    "    \n",
    "    a = 1 / np.sqrt(2)\n",
    "    b = 3*np.sqrt(2) / (np.pi**2)\n",
    "    \n",
    "    num = a\n",
    "    denom = (1 + b*J)**(1/3)\n",
    "    return num / denom"
   ]
  },
  {
   "cell_type": "code",
   "execution_count": 251,
   "id": "e994e749",
   "metadata": {
    "code_folding": [
     4,
     33,
     46,
     63,
     81
    ]
   },
   "outputs": [],
   "source": [
    "## define find_z and corresponding four implicit equations\n",
    "\n",
    "epsabs=1e-6\n",
    "\n",
    "def find_z(theta, J):\n",
    "    '''\n",
    "    Set up an implicit equation whose root (z=z_root) we want to find,\n",
    "    and return z_root.\n",
    "    \n",
    "    '''\n",
    "    \n",
    "    z_max = 2 * np.arccosh( np.exp(E_J(J)/2) )\n",
    "    \n",
    "    ## should play around with brackets, tolerances\n",
    "    if (theta < np.pi/2):\n",
    "        sol = optimize.root_scalar(z_equation_quadrant1, args=(theta, J), \\\n",
    "                                   bracket=[0, z_max*(1-1e-8)]) \n",
    "        return sol.root\n",
    "    elif (theta < np.pi):\n",
    "        sol = optimize.root_scalar(z_equation_quadrant2, args=(theta, J), \\\n",
    "                                   bracket=[0, z_max*(1-1e-8)]) \n",
    "        return sol.root\n",
    "    elif (theta < 3*np.pi/2):\n",
    "        sol = optimize.root_scalar(z_equation_quadrant3, args=(theta, J), \\\n",
    "                                   bracket=[-z_max*(1-1e-8), 0]) \n",
    "        return sol.root\n",
    "    elif (theta < 2*np.pi):\n",
    "        sol = optimize.root_scalar(z_equation_quadrant4, args=(theta, J), \\\n",
    "                                   bracket=[-z_max*(1-1e-8), 0]) \n",
    "        return sol.root\n",
    "    else:\n",
    "        raise ValueError('theta must be less than 2pi')\n",
    "    \n",
    "def z_equation_quadrant1(z, theta, J):\n",
    "    '''\n",
    "    The implicit equation for z in Quadrant 1.\n",
    "    \n",
    "    '''\n",
    "    E = E_J(J) # using step 2, calculate E(J)\n",
    "    #print(\"z:\", z)\n",
    "    \n",
    "    # should play around epsabs since we don't want the coordinate conversion to fail \n",
    "    # near |z| ~ z_max\n",
    "    return integrate.quad(one_over_v_z_positive, 0, z, args=(E), epsabs=epsabs)[0] \\\n",
    "        - theta/Omega(J)\n",
    "\n",
    "def z_equation_quadrant2(z, theta, J):\n",
    "    '''\n",
    "    The implicit equation for z in Quadrant 2.\n",
    "    \n",
    "    '''\n",
    "    E = E_J(J) # using step 2, calculate E(J)\n",
    "    \n",
    "    z_max = 2 * np.arccosh(np.exp(E/2))\n",
    "    \n",
    "    # integral for one-fourth of the orbit\n",
    "    I_quarter_orbit = integrate.quad(one_over_v_z_positive, 0, z_max, args=(E), \\\n",
    "                                     epsabs=epsabs)[0]\n",
    "    \n",
    "    return I_quarter_orbit + \\\n",
    "            integrate.quad(one_over_v_z_positive, z, z_max, args=(E), epsabs=epsabs)[0] \\\n",
    "        - theta/Omega(J)\n",
    "\n",
    "def z_equation_quadrant3(z, theta, J):\n",
    "    '''\n",
    "    The implicit equation for z in Quadrant 3.\n",
    "    \n",
    "    '''\n",
    "    E = E_J(J) # using step 2, calculate E(J)\n",
    "    \n",
    "    z_max = 2 * np.arccosh(np.exp(E/2))\n",
    "    \n",
    "    # integral for one-fourth of the orbit\n",
    "    I_quarter_orbit = integrate.quad(one_over_v_z_positive, 0, z_max, args=(E), \\\n",
    "                                     epsabs=epsabs)[0]\n",
    "    \n",
    "    return 2*I_quarter_orbit + \\\n",
    "            integrate.quad(one_over_v_z_positive, z, 0, args=(E), epsabs=epsabs)[0] \\\n",
    "        - theta/Omega(J)\n",
    "\n",
    "\n",
    "def z_equation_quadrant4(z, theta, J):\n",
    "    '''\n",
    "    The implicit equation for z in Quadrant 4.\n",
    "    \n",
    "    '''\n",
    "    E = E_J(J) # using step 2, calculate E(J)\n",
    "    \n",
    "    z_max = 2 * np.arccosh(np.exp(E/2))\n",
    "    \n",
    "    # integral for one-fourth of the orbit\n",
    "    I_quarter_orbit = integrate.quad(one_over_v_z_positive, 0, z_max, args=(E), \\\n",
    "                                     epsabs=epsabs)[0]\n",
    "    \n",
    "    return 3*I_quarter_orbit + \\\n",
    "            integrate.quad(one_over_v_z_positive, -z_max, z, args=(E), epsabs=epsabs)[0] \\\n",
    "        - theta/Omega(J)\n",
    "\n"
   ]
  },
  {
   "cell_type": "code",
   "execution_count": 252,
   "id": "2f801a92",
   "metadata": {
    "scrolled": true
   },
   "outputs": [
    {
     "name": "stdout",
     "output_type": "stream",
     "text": [
      "Quadrant 1 tests passed\n"
     ]
    },
    {
     "ename": "ValueError",
     "evalue": "f(a) and f(b) must have different signs",
     "output_type": "error",
     "traceback": [
      "\u001b[0;31m------------------------------------------------------------\u001b[0m",
      "\u001b[0;31mValueError\u001b[0m                 Traceback (most recent call last)",
      "\u001b[0;32m<ipython-input-252-bd0a2917c878>\u001b[0m in \u001b[0;36m<module>\u001b[0;34m\u001b[0m\n\u001b[1;32m     10\u001b[0m \u001b[0;34m\u001b[0m\u001b[0m\n\u001b[1;32m     11\u001b[0m \u001b[0;31m# Quadrant 2 boundary tests\u001b[0m\u001b[0;34m\u001b[0m\u001b[0;34m\u001b[0m\u001b[0;34m\u001b[0m\u001b[0m\n\u001b[0;32m---> 12\u001b[0;31m \u001b[0mfind_z\u001b[0m\u001b[0;34m(\u001b[0m\u001b[0mnp\u001b[0m\u001b[0;34m.\u001b[0m\u001b[0mpi\u001b[0m\u001b[0;34m/\u001b[0m\u001b[0;36m2\u001b[0m \u001b[0;34m*\u001b[0m \u001b[0;34m(\u001b[0m\u001b[0;36m1\u001b[0m\u001b[0;34m+\u001b[0m\u001b[0;36m1e-6\u001b[0m\u001b[0;34m)\u001b[0m\u001b[0;34m,\u001b[0m \u001b[0;36m0.1\u001b[0m\u001b[0;34m)\u001b[0m\u001b[0;34m\u001b[0m\u001b[0;34m\u001b[0m\u001b[0m\n\u001b[0m\u001b[1;32m     13\u001b[0m \u001b[0mfind_z\u001b[0m\u001b[0;34m(\u001b[0m\u001b[0mnp\u001b[0m\u001b[0;34m.\u001b[0m\u001b[0mpi\u001b[0m\u001b[0;34m/\u001b[0m\u001b[0;36m2\u001b[0m \u001b[0;34m*\u001b[0m \u001b[0;34m(\u001b[0m\u001b[0;36m1\u001b[0m\u001b[0;34m+\u001b[0m\u001b[0;36m1e-6\u001b[0m\u001b[0;34m)\u001b[0m\u001b[0;34m,\u001b[0m \u001b[0;36m20\u001b[0m\u001b[0;34m)\u001b[0m\u001b[0;34m\u001b[0m\u001b[0;34m\u001b[0m\u001b[0m\n\u001b[1;32m     14\u001b[0m \u001b[0mfind_z\u001b[0m\u001b[0;34m(\u001b[0m\u001b[0;36m3\u001b[0m\u001b[0;34m*\u001b[0m\u001b[0mnp\u001b[0m\u001b[0;34m.\u001b[0m\u001b[0mpi\u001b[0m\u001b[0;34m/\u001b[0m\u001b[0;36m4\u001b[0m\u001b[0;34m,\u001b[0m \u001b[0;36m0.1\u001b[0m\u001b[0;34m)\u001b[0m\u001b[0;34m\u001b[0m\u001b[0;34m\u001b[0m\u001b[0m\n",
      "\u001b[0;32m<ipython-input-251-c7265fb927fd>\u001b[0m in \u001b[0;36mfind_z\u001b[0;34m(theta, J)\u001b[0m\n\u001b[1;32m     18\u001b[0m         \u001b[0;32mreturn\u001b[0m \u001b[0msol\u001b[0m\u001b[0;34m.\u001b[0m\u001b[0mroot\u001b[0m\u001b[0;34m\u001b[0m\u001b[0;34m\u001b[0m\u001b[0m\n\u001b[1;32m     19\u001b[0m     \u001b[0;32melif\u001b[0m \u001b[0;34m(\u001b[0m\u001b[0mtheta\u001b[0m \u001b[0;34m<\u001b[0m \u001b[0mnp\u001b[0m\u001b[0;34m.\u001b[0m\u001b[0mpi\u001b[0m\u001b[0;34m)\u001b[0m\u001b[0;34m:\u001b[0m\u001b[0;34m\u001b[0m\u001b[0;34m\u001b[0m\u001b[0m\n\u001b[0;32m---> 20\u001b[0;31m         sol = optimize.root_scalar(z_equation_quadrant2, args=(theta, J), \\\n\u001b[0m\u001b[1;32m     21\u001b[0m                                    bracket=[0, z_max*(1-1e-8)]) \n\u001b[1;32m     22\u001b[0m         \u001b[0;32mreturn\u001b[0m \u001b[0msol\u001b[0m\u001b[0;34m.\u001b[0m\u001b[0mroot\u001b[0m\u001b[0;34m\u001b[0m\u001b[0;34m\u001b[0m\u001b[0m\n",
      "\u001b[0;32m~/miniconda3/lib/python3.9/site-packages/scipy/optimize/_root_scalar.py\u001b[0m in \u001b[0;36mroot_scalar\u001b[0;34m(f, args, method, bracket, fprime, fprime2, x0, x1, xtol, rtol, maxiter, options)\u001b[0m\n\u001b[1;32m    247\u001b[0m \u001b[0;34m\u001b[0m\u001b[0m\n\u001b[1;32m    248\u001b[0m         \u001b[0ma\u001b[0m\u001b[0;34m,\u001b[0m \u001b[0mb\u001b[0m \u001b[0;34m=\u001b[0m \u001b[0mbracket\u001b[0m\u001b[0;34m[\u001b[0m\u001b[0;34m:\u001b[0m\u001b[0;36m2\u001b[0m\u001b[0;34m]\u001b[0m\u001b[0;34m\u001b[0m\u001b[0;34m\u001b[0m\u001b[0m\n\u001b[0;32m--> 249\u001b[0;31m         \u001b[0mr\u001b[0m\u001b[0;34m,\u001b[0m \u001b[0msol\u001b[0m \u001b[0;34m=\u001b[0m \u001b[0mmethodc\u001b[0m\u001b[0;34m(\u001b[0m\u001b[0mf\u001b[0m\u001b[0;34m,\u001b[0m \u001b[0ma\u001b[0m\u001b[0;34m,\u001b[0m \u001b[0mb\u001b[0m\u001b[0;34m,\u001b[0m \u001b[0margs\u001b[0m\u001b[0;34m=\u001b[0m\u001b[0margs\u001b[0m\u001b[0;34m,\u001b[0m \u001b[0;34m**\u001b[0m\u001b[0mkwargs\u001b[0m\u001b[0;34m)\u001b[0m\u001b[0;34m\u001b[0m\u001b[0;34m\u001b[0m\u001b[0m\n\u001b[0m\u001b[1;32m    250\u001b[0m     \u001b[0;32melif\u001b[0m \u001b[0mmeth\u001b[0m \u001b[0;32min\u001b[0m \u001b[0;34m[\u001b[0m\u001b[0;34m'secant'\u001b[0m\u001b[0;34m]\u001b[0m\u001b[0;34m:\u001b[0m\u001b[0;34m\u001b[0m\u001b[0;34m\u001b[0m\u001b[0m\n\u001b[1;32m    251\u001b[0m         \u001b[0;32mif\u001b[0m \u001b[0mx0\u001b[0m \u001b[0;32mis\u001b[0m \u001b[0;32mNone\u001b[0m\u001b[0;34m:\u001b[0m\u001b[0;34m\u001b[0m\u001b[0;34m\u001b[0m\u001b[0m\n",
      "\u001b[0;32m~/miniconda3/lib/python3.9/site-packages/scipy/optimize/zeros.py\u001b[0m in \u001b[0;36mbrentq\u001b[0;34m(f, a, b, args, xtol, rtol, maxiter, full_output, disp)\u001b[0m\n\u001b[1;32m    774\u001b[0m     \u001b[0;32mif\u001b[0m \u001b[0mrtol\u001b[0m \u001b[0;34m<\u001b[0m \u001b[0m_rtol\u001b[0m\u001b[0;34m:\u001b[0m\u001b[0;34m\u001b[0m\u001b[0;34m\u001b[0m\u001b[0m\n\u001b[1;32m    775\u001b[0m         \u001b[0;32mraise\u001b[0m \u001b[0mValueError\u001b[0m\u001b[0;34m(\u001b[0m\u001b[0;34m\"rtol too small (%g < %g)\"\u001b[0m \u001b[0;34m%\u001b[0m \u001b[0;34m(\u001b[0m\u001b[0mrtol\u001b[0m\u001b[0;34m,\u001b[0m \u001b[0m_rtol\u001b[0m\u001b[0;34m)\u001b[0m\u001b[0;34m)\u001b[0m\u001b[0;34m\u001b[0m\u001b[0;34m\u001b[0m\u001b[0m\n\u001b[0;32m--> 776\u001b[0;31m     \u001b[0mr\u001b[0m \u001b[0;34m=\u001b[0m \u001b[0m_zeros\u001b[0m\u001b[0;34m.\u001b[0m\u001b[0m_brentq\u001b[0m\u001b[0;34m(\u001b[0m\u001b[0mf\u001b[0m\u001b[0;34m,\u001b[0m \u001b[0ma\u001b[0m\u001b[0;34m,\u001b[0m \u001b[0mb\u001b[0m\u001b[0;34m,\u001b[0m \u001b[0mxtol\u001b[0m\u001b[0;34m,\u001b[0m \u001b[0mrtol\u001b[0m\u001b[0;34m,\u001b[0m \u001b[0mmaxiter\u001b[0m\u001b[0;34m,\u001b[0m \u001b[0margs\u001b[0m\u001b[0;34m,\u001b[0m \u001b[0mfull_output\u001b[0m\u001b[0;34m,\u001b[0m \u001b[0mdisp\u001b[0m\u001b[0;34m)\u001b[0m\u001b[0;34m\u001b[0m\u001b[0;34m\u001b[0m\u001b[0m\n\u001b[0m\u001b[1;32m    777\u001b[0m     \u001b[0;32mreturn\u001b[0m \u001b[0mresults_c\u001b[0m\u001b[0;34m(\u001b[0m\u001b[0mfull_output\u001b[0m\u001b[0;34m,\u001b[0m \u001b[0mr\u001b[0m\u001b[0;34m)\u001b[0m\u001b[0;34m\u001b[0m\u001b[0;34m\u001b[0m\u001b[0m\n\u001b[1;32m    778\u001b[0m \u001b[0;34m\u001b[0m\u001b[0m\n",
      "\u001b[0;31mValueError\u001b[0m: f(a) and f(b) must have different signs"
     ]
    }
   ],
   "source": [
    "# Quadrant 1 boundary tests\n",
    "find_z(1e-6, 0.1)\n",
    "find_z(1e-6, 20)\n",
    "find_z(np.pi/4, 0.1)\n",
    "find_z(np.pi/4, 20)\n",
    "find_z(np.pi/2 * (1-1e-2), 0.1)\n",
    "#find_z(np.pi/2 * (1-1e-2), 20) # generates error since z_root isn't in (0,z_max)\n",
    "\n",
    "print(\"Quadrant 1 tests passed\")\n",
    "\n",
    "# Quadrant 2 boundary tests\n",
    "find_z(np.pi/2 * (1+1e-6), 0.1)\n",
    "find_z(np.pi/2 * (1+1e-6), 20)\n",
    "find_z(3*np.pi/4, 0.1)\n",
    "find_z(3*np.pi/4, 20)\n",
    "find_z(np.pi * (1-1e-2), 0.1)\n",
    "# find_z(np.pi * (1-1e-2), 20) # generates error since z_root isn't in (0,z_max)\n",
    "\n",
    "print(\"Quadrant 2 tests passed\")\n",
    "\n",
    "# Quadrant 3 boundary tests\n",
    "find_z(np.pi * (1+1e-6), 0.1)\n",
    "find_z(np.pi * (1+1e-6), 20)\n",
    "find_z(5*np.pi/4, 0.1)\n",
    "find_z(5*np.pi/4, 20)\n",
    "find_z(3*np.pi/2 * (1-1e-2), 0.1)\n",
    "# find_z(3*np.pi/2 * (1-1e-2), 20) # generates error since z_root isn't in (-z_max,0)\n",
    "\n",
    "print(\"Quadrant 3 tests passed\")\n",
    "\n",
    "# Quadrant 4 boundary tests\n",
    "find_z(3*np.pi/2 * (1+1e-6), 0.1)\n",
    "find_z(3*np.pi/2 * (1+1e-6), 20)\n",
    "find_z(7*np.pi/4, 0.1)\n",
    "find_z(7*np.pi/4, 20)\n",
    "find_z(2*np.pi * (1-1e-2), 0.1)\n",
    "find_z(2*np.pi * (1-1e-3), 20) # generates error since z_root isn't in (-z_max,0)\n",
    "\n",
    "print(\"Quadrant 4 tests passed\")\n",
    "\n"
   ]
  },
  {
   "cell_type": "markdown",
   "id": "c3b1473b",
   "metadata": {},
   "source": [
    "# Step 4: Find $v_z$"
   ]
  },
  {
   "cell_type": "markdown",
   "id": "2f69cea5",
   "metadata": {},
   "source": [
    "We'll plug in $E(J)$ and $z$ into $v_z = \\pm \\sqrt{2(E-\\Phi(z))}$."
   ]
  },
  {
   "cell_type": "code",
   "execution_count": 249,
   "id": "3788960a",
   "metadata": {
    "scrolled": true
   },
   "outputs": [
    {
     "name": "stdout",
     "output_type": "stream",
     "text": [
      "5.524138336790668e-05\n",
      "2.435968790093614\n"
     ]
    }
   ],
   "source": [
    "theta_temp = 2.96761\n",
    "J_temp = 5\n",
    "z_temp = find_z(theta_temp, J_temp)\n",
    "E_temp = E_J(J_temp)\n",
    "\n",
    "print(z_temp)\n",
    "print(v_z_positive(z_temp, E_temp))"
   ]
  },
  {
   "cell_type": "code",
   "execution_count": null,
   "id": "c9802d3c",
   "metadata": {},
   "outputs": [],
   "source": []
  }
 ],
 "metadata": {
  "kernelspec": {
   "display_name": "Python 3",
   "language": "python",
   "name": "python3"
  },
  "language_info": {
   "codemirror_mode": {
    "name": "ipython",
    "version": 3
   },
   "file_extension": ".py",
   "mimetype": "text/x-python",
   "name": "python",
   "nbconvert_exporter": "python",
   "pygments_lexer": "ipython3",
   "version": "3.9.5"
  }
 },
 "nbformat": 4,
 "nbformat_minor": 5
}
