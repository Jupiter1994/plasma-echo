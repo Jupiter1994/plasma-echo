{
 "cells": [
  {
   "cell_type": "markdown",
   "id": "11cfe96f",
   "metadata": {},
   "source": [
    "I'll use this notebook to implement and test a numerical tool for converting from action-angle coordinates to Cartesian coordinates."
   ]
  },
  {
   "cell_type": "code",
   "execution_count": 140,
   "id": "a3ae243a",
   "metadata": {
    "code_folding": []
   },
   "outputs": [],
   "source": [
    "# import packages\n",
    "import numpy as np\n",
    "import scipy.integrate as integrate\n",
    "import scipy.misc\n",
    "import time\n",
    "import pickle\n",
    "\n",
    "import matplotlib.pyplot as plt\n",
    "import matplotlib.colors as colors\n",
    "import matplotlib.animation as animation\n",
    "\n",
    "from matplotlib import cm\n",
    "from matplotlib.ticker import LinearLocator\n",
    "## set default plot size\n",
    "plt.rcParams[\"figure.figsize\"] = (10, 7)\n",
    "## set global font size\n",
    "plt.rcParams.update({'font.size':14})\n",
    "\n",
    "import astropy.units as u\n",
    "from astropy import constants as const\n",
    "\n",
    "import scipy.integrate as integrate \n",
    "import scipy.interpolate as interp\n",
    "import scipy.optimize as optimize"
   ]
  },
  {
   "cell_type": "markdown",
   "id": "36db36d1",
   "metadata": {},
   "source": [
    "# Step 1: Derive $J(E)$"
   ]
  },
  {
   "cell_type": "code",
   "execution_count": 2,
   "id": "5555f645",
   "metadata": {
    "code_folding": []
   },
   "outputs": [],
   "source": [
    "## define Phi, positive v_z, and J(E)\n",
    "def Phi(z):\n",
    "    '''\n",
    "    Represents the (dimensionless) slab potential.\n",
    "    \n",
    "    '''\n",
    "    \n",
    "    return 2 * np.log(np.cosh(z / 2))\n",
    "\n",
    "def v_z_positive(z, E):\n",
    "    '''\n",
    "    Represents the (positive) v_z corresponding to a given z and E; i.e.,\n",
    "    v_z = +sqrt[2*(E-Phi(z))]. \n",
    "    \n",
    "    '''\n",
    "    \n",
    "    return np.sqrt(2*(E-Phi(z)))\n",
    "\n",
    "def one_over_v_z_positive(z, E):\n",
    "    '''\n",
    "    Represents 1/v_z.\n",
    "    \n",
    "    '''\n",
    "    \n",
    "    return 1 / np.sqrt(2*(E-Phi(z)))\n",
    "\n",
    "def J_E(E): \n",
    "    '''\n",
    "    Returns the numerical value of J corresponding to a given energy E.\n",
    "    \n",
    "    '''\n",
    "    \n",
    "    z_max = 2 * np.arccosh( np.exp(E/2) )\n",
    "    return (2 / np.pi) * integrate.quad(v_z_positive, 0, z_max, args=(E))[0]"
   ]
  },
  {
   "cell_type": "code",
   "execution_count": 3,
   "id": "87d38951",
   "metadata": {
    "scrolled": true
   },
   "outputs": [],
   "source": [
    "plot_J_E = False\n",
    "if plot_J_E:\n",
    "    E_step = 0.1\n",
    "    Es = np.arange(0., 20+E_step, E_step)\n",
    "\n",
    "    J_E_vectorized = np.vectorize(J_E)\n",
    "\n",
    "    plt.plot(Es, J_E_vectorized(Es))\n",
    "    plt.xlabel(\"E\")\n",
    "    plt.ylabel(\"J\")\n",
    "\n",
    "    plt.title(\"Numerically calculated $J(E)$\")\n",
    "    plt.show()"
   ]
  },
  {
   "cell_type": "markdown",
   "id": "b70a7dab",
   "metadata": {},
   "source": [
    "# Step 2: Derive $E(J)$"
   ]
  },
  {
   "cell_type": "markdown",
   "id": "903d49ad",
   "metadata": {},
   "source": [
    "We'll use root finding to find $E(J)$; i.e., this is a method to get $E$ given a certain action $J$. This means finding the root $E$ of $J(E) - J' = 0$ for an arbitrary action $J'$."
   ]
  },
  {
   "cell_type": "code",
   "execution_count": 4,
   "id": "f988b3c8",
   "metadata": {},
   "outputs": [],
   "source": [
    "def J_E_minus_J_prime(E, J_prime):\n",
    "    '''\n",
    "    The function we'll apply root-finding to in order to derive E(J).\n",
    "    \n",
    "    '''\n",
    "    \n",
    "    return J_E(E) - J_prime\n",
    "\n",
    "def E_J(J):\n",
    "    '''\n",
    "    Use root-finding to find the energy (E) corresponding to J.\n",
    "    \n",
    "    '''\n",
    "    \n",
    "    sol = optimize.root_scalar(J_E_minus_J_prime, args=(J), bracket=[0,100])\n",
    "    return sol.root"
   ]
  },
  {
   "cell_type": "markdown",
   "id": "e153132b",
   "metadata": {},
   "source": [
    "# Step 3: Find $z$"
   ]
  },
  {
   "cell_type": "markdown",
   "id": "0aec088d",
   "metadata": {},
   "source": [
    "We'll use root-finding to solve an implicit equation for $z$. The exact equation will depend on which quadrant of phase space we're in, but it will generally look like: [integral depending on $z$] - $\\frac{\\theta}{\\Omega(J)}$ - [some other constant] = 0."
   ]
  },
  {
   "cell_type": "code",
   "execution_count": 5,
   "id": "6f1c7d13",
   "metadata": {
    "code_folding": []
   },
   "outputs": [],
   "source": [
    "## define Omega(J)\n",
    "def Omega(J):\n",
    "    '''\n",
    "    \n",
    "    Eq. 8 of Tremaine et al. (2023); orbital frequency.\n",
    "    \n",
    "    NOTE: Unlike in my other notebooks, rather than use an analytical form\n",
    "    of Omega, I'll do the integral numerically.\n",
    "    \n",
    "    '''\n",
    "    \n",
    "    E = E_J(J) # using step 2, calculate E(J)\n",
    "    \n",
    "    z_max = 2 * np.arccosh(np.exp(E/2))\n",
    "    \n",
    "    # integral for one-fourth of the orbit\n",
    "    I_quarter_orbit = integrate.quad(one_over_v_z_positive, 0, z_max, args=(E), \\\n",
    "                                     epsabs=epsabs)[0]\n",
    "    \n",
    "    I_full_orbit = 4*I_quarter_orbit\n",
    "    \n",
    "    return 2*np.pi / I_full_orbit"
   ]
  },
  {
   "cell_type": "code",
   "execution_count": 6,
   "id": "e994e749",
   "metadata": {
    "code_folding": [
     0,
     33,
     46,
     63,
     81
    ]
   },
   "outputs": [],
   "source": [
    "## define find_z and corresponding four implicit equations\n",
    "\n",
    "epsabs=1e-6\n",
    "\n",
    "def find_z(theta, J):\n",
    "    '''\n",
    "    Set up an implicit equation whose root (z=z_root) we want to find,\n",
    "    and return z_root.\n",
    "    \n",
    "    '''\n",
    "    \n",
    "    z_max = 2 * np.arccosh( np.exp(E_J(J)/2) )\n",
    "    \n",
    "    ## should play around with brackets, tolerances\n",
    "    if (theta < np.pi/2):\n",
    "        sol = optimize.root_scalar(z_equation_quadrant1, args=(theta, J), \\\n",
    "                                   bracket=[0, z_max*(1-1e-8)]) \n",
    "        return sol.root\n",
    "    elif (theta < np.pi):\n",
    "        sol = optimize.root_scalar(z_equation_quadrant2, args=(theta, J), \\\n",
    "                                   bracket=[0, z_max*(1-1e-8)]) \n",
    "        return sol.root\n",
    "    elif (theta < 3*np.pi/2):\n",
    "        sol = optimize.root_scalar(z_equation_quadrant3, args=(theta, J), \\\n",
    "                                   bracket=[-z_max*(1-1e-8), 0]) \n",
    "        return sol.root\n",
    "    elif (theta < 2*np.pi):\n",
    "        sol = optimize.root_scalar(z_equation_quadrant4, args=(theta, J), \\\n",
    "                                   bracket=[-z_max*(1-1e-8), 0]) \n",
    "        return sol.root\n",
    "    else:\n",
    "        raise ValueError('theta must be less than 2pi')\n",
    "    \n",
    "def z_equation_quadrant1(z, theta, J):\n",
    "    '''\n",
    "    The implicit equation for z in Quadrant 1.\n",
    "    \n",
    "    '''\n",
    "    E = E_J(J) # using step 2, calculate E(J)\n",
    "    #print(\"z:\", z)\n",
    "    \n",
    "    # should play around epsabs since we don't want the coordinate conversion to fail \n",
    "    # near |z| ~ z_max\n",
    "    return integrate.quad(one_over_v_z_positive, 0, z, args=(E), epsabs=epsabs)[0] \\\n",
    "        - theta/Omega(J)\n",
    "\n",
    "def z_equation_quadrant2(z, theta, J):\n",
    "    '''\n",
    "    The implicit equation for z in Quadrant 2.\n",
    "    \n",
    "    '''\n",
    "    E = E_J(J) # using step 2, calculate E(J)\n",
    "    \n",
    "    z_max = 2 * np.arccosh(np.exp(E/2))\n",
    "    \n",
    "    # integral for one-fourth of the orbit\n",
    "    I_quarter_orbit = integrate.quad(one_over_v_z_positive, 0, z_max, args=(E), \\\n",
    "                                     epsabs=epsabs)[0]\n",
    "    \n",
    "    return I_quarter_orbit + \\\n",
    "            integrate.quad(one_over_v_z_positive, z, z_max, args=(E), epsabs=epsabs)[0] \\\n",
    "        - theta/Omega(J)\n",
    "\n",
    "def z_equation_quadrant3(z, theta, J):\n",
    "    '''\n",
    "    The implicit equation for z in Quadrant 3.\n",
    "    \n",
    "    '''\n",
    "    E = E_J(J) # using step 2, calculate E(J)\n",
    "    \n",
    "    z_max = 2 * np.arccosh(np.exp(E/2))\n",
    "    \n",
    "    # integral for one-fourth of the orbit\n",
    "    I_quarter_orbit = integrate.quad(one_over_v_z_positive, 0, z_max, args=(E), \\\n",
    "                                     epsabs=epsabs)[0]\n",
    "    \n",
    "    return 2*I_quarter_orbit + \\\n",
    "            integrate.quad(one_over_v_z_positive, z, 0, args=(E), epsabs=epsabs)[0] \\\n",
    "        - theta/Omega(J)\n",
    "\n",
    "\n",
    "def z_equation_quadrant4(z, theta, J):\n",
    "    '''\n",
    "    The implicit equation for z in Quadrant 4.\n",
    "    \n",
    "    '''\n",
    "    E = E_J(J) # using step 2, calculate E(J)\n",
    "    \n",
    "    z_max = 2 * np.arccosh(np.exp(E/2))\n",
    "    \n",
    "    # integral for one-fourth of the orbit\n",
    "    I_quarter_orbit = integrate.quad(one_over_v_z_positive, 0, z_max, args=(E), \\\n",
    "                                     epsabs=epsabs)[0]\n",
    "    \n",
    "    return 3*I_quarter_orbit + \\\n",
    "            integrate.quad(one_over_v_z_positive, -z_max, z, args=(E), epsabs=epsabs)[0] \\\n",
    "        - theta/Omega(J)\n",
    "\n"
   ]
  },
  {
   "cell_type": "code",
   "execution_count": 7,
   "id": "66eb9ce8",
   "metadata": {},
   "outputs": [
    {
     "data": {
      "text/plain": [
       "193.59588623046875"
      ]
     },
     "execution_count": 7,
     "metadata": {},
     "output_type": "execute_result"
    }
   ],
   "source": [
    "## doing timing tests + exploring integrating in different directions\n",
    "J = 20\n",
    "E = E_J(J) # using step 2, calculate E(J)\n",
    "    \n",
    "z_max = 2 * np.arccosh(np.exp(E/2))\n",
    "\n",
    "epsabs=1e-6\n",
    "\n",
    "start = time.time()\n",
    "integrate.quad(one_over_v_z_positive, 0, .5*z_max, args=(E), \\\n",
    "                                     epsabs=epsabs)[0]\n",
    "# doing 200*1e5 integrals is too long\n",
    "(time.time()-start)*1e5*200 / 60"
   ]
  },
  {
   "cell_type": "code",
   "execution_count": 8,
   "id": "2f801a92",
   "metadata": {
    "code_folding": [
     0
    ],
    "scrolled": true
   },
   "outputs": [
    {
     "name": "stdout",
     "output_type": "stream",
     "text": [
      "Quadrant 1 tests passed\n",
      "Quadrant 2 tests passed\n",
      "Quadrant 3 tests passed\n",
      "Quadrant 4 tests passed\n"
     ]
    }
   ],
   "source": [
    "## find_z tests\n",
    "# Quadrant 1 boundary tests\n",
    "find_z(1e-8, 0.1)\n",
    "find_z(1e-8, 20)\n",
    "find_z(np.pi/4, 0.1)\n",
    "find_z(np.pi/4, 20)\n",
    "find_z(np.pi/2 * (1-1e-3), 0.1) # roundoff error for 1-1e-4, but still works\n",
    "find_z(np.pi/2 * (1-1e-3), 20) # roundoff error for 1-1e-4, but still works\n",
    "\n",
    "print(\"Quadrant 1 tests passed\")\n",
    "\n",
    "# Quadrant 2 boundary tests\n",
    "find_z(np.pi/2 * (1+1e-4), 0.1) # breaks for 1+1e-5\n",
    "find_z(np.pi/2 * (1+1e-4), 20) # breaks for 1+1e-5\n",
    "find_z(3*np.pi/4, 0.1)\n",
    "find_z(3*np.pi/4, 20)\n",
    "find_z(np.pi * (1-1e-8), 0.1)\n",
    "find_z(np.pi * (1-1e-8), 20)\n",
    "\n",
    "print(\"Quadrant 2 tests passed\")\n",
    "\n",
    "# Quadrant 3 boundary tests\n",
    "find_z(np.pi * (1+1e-8), 0.1)\n",
    "find_z(np.pi * (1+1e-8), 20)\n",
    "find_z(5*np.pi/4, 0.1)\n",
    "find_z(5*np.pi/4, 20)\n",
    "find_z(3*np.pi/2 * (1-1e-8), 0.1)\n",
    "find_z(3*np.pi/2 * (1-1e-8), 20)\n",
    "\n",
    "print(\"Quadrant 3 tests passed\")\n",
    "\n",
    "# Quadrant 4 boundary tests\n",
    "find_z(3*np.pi/2 * (1+1e-4), 0.1) # breaks for 1+1e-5\n",
    "find_z(3*np.pi/2 * (1+1e-4), 20) # breaks for 1+1e-5\n",
    "find_z(7*np.pi/4, 0.1)\n",
    "find_z(7*np.pi/4, 20)\n",
    "find_z(2*np.pi * (1-1e-8), 0.1)\n",
    "find_z(2*np.pi * (1-1e-8), 20)\n",
    "\n",
    "print(\"Quadrant 4 tests passed\")"
   ]
  },
  {
   "cell_type": "markdown",
   "id": "c3b1473b",
   "metadata": {},
   "source": [
    "# Step 4: Find $v_z$"
   ]
  },
  {
   "cell_type": "markdown",
   "id": "2f69cea5",
   "metadata": {},
   "source": [
    "We'll plug in $E(J)$ and $z$ into $v_z = \\pm \\sqrt{2(E-\\Phi(z))}$."
   ]
  },
  {
   "cell_type": "code",
   "execution_count": 89,
   "id": "3788960a",
   "metadata": {
    "scrolled": true
   },
   "outputs": [],
   "source": [
    "def convert_AA_to_Cart(theta, J):\n",
    "    '''\n",
    "    \n",
    "    Given theta and J, solve for z and v_z.\n",
    "    \n",
    "    '''\n",
    "\n",
    "    z = find_z(theta, J)\n",
    "    E = E_J(J)\n",
    "    \n",
    "    # casework based on quadrants\n",
    "    if (theta < 0 or theta > 2*np.pi):\n",
    "        print(\"Error: theta not in [0, 2pi]\")\n",
    "        \n",
    "    if (theta < np.pi/2 or theta > 3*np.pi/2):\n",
    "        v_z = v_z_positive(z, E)\n",
    "    else:\n",
    "        v_z = -v_z_positive(z, E)\n",
    "    \n",
    "    return z, v_z"
   ]
  },
  {
   "cell_type": "code",
   "execution_count": 93,
   "id": "4ca995bf",
   "metadata": {},
   "outputs": [
    {
     "data": {
      "text/plain": [
       "(4.326564979325922, 0.029956649940700915)"
      ]
     },
     "execution_count": 93,
     "metadata": {},
     "output_type": "execute_result"
    }
   ],
   "source": [
    "theta_temp = np.pi/2*.99\n",
    "J_temp = 5\n",
    "convert_AA_to_Cart(theta_temp, J_temp)"
   ]
  },
  {
   "cell_type": "markdown",
   "id": "80327f7d",
   "metadata": {},
   "source": [
    "# Algorithm 2: Converting from $(z,v_z)$ to $(\\theta,J)$"
   ]
  },
  {
   "cell_type": "markdown",
   "id": "0253cd5b",
   "metadata": {},
   "source": [
    "I propose a new algorithm:\n",
    "1. Sample from (z, v_z)\n",
    "2. Get E\n",
    "3. Infer J\n",
    "4. Do *one* integral that goes from (0 or +-z_max) to z (or vice versa), which lets us solve for $\\theta$ directly \n",
    "\n",
    "After we get 10,000 points or so, interpolate to get the functions $z(\\theta, J)$ and $v_z(\\theta, J)$."
   ]
  },
  {
   "cell_type": "code",
   "execution_count": 96,
   "id": "d0367f64",
   "metadata": {
    "code_folding": [
     0
    ]
   },
   "outputs": [],
   "source": [
    "def convert_Cart_to_AA(z, v_z):\n",
    "    '''\n",
    "    Given z and v_z, solve for theta and J.\n",
    "    \n",
    "    theta is calculated by multiplying Omega(J) by some integral over 1/v_z;\n",
    "    I'll denote this integral as I_z.\n",
    "    \n",
    "    '''\n",
    "    \n",
    "    E = v_z**2 / 2 + Phi(z)\n",
    "    J = J_E(E)\n",
    "    Omega_J = Omega(J)\n",
    "    I_z = 0 # integral over 1/v_z\n",
    "    \n",
    "    ## do casework based on which quadrant we're in\n",
    "    if (z >= 0):\n",
    "        \n",
    "        if (v_z >= 0): # quadrant 1\n",
    "            I_z = integrate.quad(one_over_v_z_positive, 0, z, args=(E))[0]\n",
    "            \n",
    "        else: # quadrant 2; z>0 and v_z<0\n",
    "            z_max = 2 * np.arccosh( np.exp(E/2) )\n",
    "            # integral for one-fourth of the orbit\n",
    "            I_quarter_orbit = integrate.quad(one_over_v_z_positive, 0, \\\n",
    "                                             z_max, args=(E))[0]\n",
    "            I_z = I_quarter_orbit + \\\n",
    "                integrate.quad(one_over_v_z_positive, z, z_max, args=(E))[0]\n",
    "            \n",
    "    else:\n",
    "        \n",
    "        if (v_z <= 0): # quadrant 3\n",
    "            z_max = 2 * np.arccosh( np.exp(E/2) )\n",
    "            # integral for one-fourth of the orbit\n",
    "            I_quarter_orbit = integrate.quad(one_over_v_z_positive, 0, \\\n",
    "                                             z_max, args=(E))[0]\n",
    "            I_z = 2*I_quarter_orbit + \\\n",
    "                integrate.quad(one_over_v_z_positive, z, 0, args=(E))[0]\n",
    "            \n",
    "        else: # quadrant 4; z<0 and v_z>0\n",
    "            z_max = 2 * np.arccosh( np.exp(E/2) )\n",
    "            # integral for one-fourth of the orbit\n",
    "            I_quarter_orbit = integrate.quad(one_over_v_z_positive, 0, \\\n",
    "                                             z_max, args=(E))[0]\n",
    "            \n",
    "            I_z = 3*I_quarter_orbit + \\\n",
    "                integrate.quad(one_over_v_z_positive, -z_max, z, args=(E))[0]\n",
    "    \n",
    "    theta = Omega_J * I_z\n",
    "    return theta, J\n",
    "\n",
    "convert_Cart_to_AA_vect = np.vectorize(convert_Cart_to_AA)"
   ]
  },
  {
   "cell_type": "code",
   "execution_count": 98,
   "id": "8526c8f1",
   "metadata": {},
   "outputs": [
    {
     "data": {
      "text/plain": [
       "(0.0, 0.0025458708012541195)"
      ]
     },
     "execution_count": 98,
     "metadata": {},
     "output_type": "execute_result"
    }
   ],
   "source": [
    "convert_Cart_to_AA(0, .06)"
   ]
  },
  {
   "cell_type": "markdown",
   "id": "d7c642be",
   "metadata": {},
   "source": [
    "# check that AA->Cart and Cart->AA conversions are consistent"
   ]
  },
  {
   "cell_type": "code",
   "execution_count": 99,
   "id": "7e2f0bf7",
   "metadata": {
    "scrolled": true
   },
   "outputs": [
    {
     "data": {
      "text/plain": [
       "(array([0.        , 0.06340305, 0.1268061 , 0.19020916, 0.25361221,\n",
       "        0.31701526, 0.38041831, 0.44382136, 0.50722441, 0.57062747,\n",
       "        0.63403052, 0.69743357, 0.76083662, 0.82423967, 0.88764272,\n",
       "        0.95104578, 1.01444883, 1.07785188, 1.14125493, 1.20465798,\n",
       "        1.26806103, 1.33146409, 1.39486714, 1.45827019, 1.52167324,\n",
       "        1.58507629, 1.64847935, 1.7118824 , 1.77528545, 1.8386885 ,\n",
       "        1.90209155, 1.9654946 , 2.02889766, 2.09230071, 2.15570376,\n",
       "        2.21910681, 2.28250986, 2.34591291, 2.40931597, 2.47271902,\n",
       "        2.53612207, 2.59952512, 2.66292817, 2.72633122, 2.78973428,\n",
       "        2.85313733, 2.91654038, 2.97994343, 3.04334648, 3.10674954,\n",
       "        3.17015259, 3.23355564, 3.29695869, 3.36036174, 3.42376479,\n",
       "        3.48716785, 3.5505709 , 3.61397395, 3.677377  , 3.74078005,\n",
       "        3.8041831 , 3.86758616, 3.93098921, 3.99439226, 4.05779531,\n",
       "        4.12119836, 4.18460141, 4.24800447, 4.31140752, 4.37481057,\n",
       "        4.43821362, 4.50161667, 4.56501972, 4.62842278, 4.69182583,\n",
       "        4.75522888, 4.81863193, 4.88203498, 4.94543804, 5.00884109,\n",
       "        5.07224414, 5.13564719, 5.19905024, 5.26245329, 5.32585635,\n",
       "        5.3892594 , 5.45266245, 5.5160655 , 5.57946855, 5.6428716 ,\n",
       "        5.70627466, 5.76967771, 5.83308076, 5.89648381, 5.95988686,\n",
       "        6.02328991, 6.08669297, 6.15009602, 6.21349907, 6.27690212]),\n",
       " array([20., 20., 20., 20., 20., 20., 20., 20., 20., 20., 20., 20., 20.,\n",
       "        20., 20., 20., 20., 20., 20., 20., 20., 20., 20., 20., 20., 20.,\n",
       "        20., 20., 20., 20., 20., 20., 20., 20., 20., 20., 20., 20., 20.,\n",
       "        20., 20., 20., 20., 20., 20., 20., 20., 20., 20., 20., 20., 20.,\n",
       "        20., 20., 20., 20., 20., 20., 20., 20., 20., 20., 20., 20., 20.,\n",
       "        20., 20., 20., 20., 20., 20., 20., 20., 20., 20., 20., 20., 20.,\n",
       "        20., 20., 20., 20., 20., 20., 20., 20., 20., 20., 20., 20., 20.,\n",
       "        20., 20., 20., 20., 20., 20., 20., 20., 20.]))"
      ]
     },
     "execution_count": 99,
     "metadata": {},
     "output_type": "execute_result"
    }
   ],
   "source": [
    "theta_temp = np.linspace(0, 2*np.pi*.999, 100)\n",
    "J_temp = 20\n",
    "\n",
    "convert_AA_to_Cart_vect = np.vectorize(convert_AA_to_Cart)\n",
    "zs_temp, vzs_temp = convert_AA_to_Cart_vect(theta_temp, J_temp)\n",
    "\n",
    "# should print original theta values and J_temp\n",
    "convert_Cart_to_AA_vect(zs_temp, vzs_temp)"
   ]
  },
  {
   "cell_type": "code",
   "execution_count": 100,
   "id": "05cf6f80",
   "metadata": {},
   "outputs": [
    {
     "name": "stdout",
     "output_type": "stream",
     "text": [
      "Time for 20 AA->Cart conversions: 6.15 s\n",
      "Time for 20 Cart->AA conversions: 0.33 s\n"
     ]
    }
   ],
   "source": [
    "# timing test for both conversion functions\n",
    "z_temp, vz_temp = -3, 1.2\n",
    "theta_temp, J_temp = convert_Cart_to_AA(z_temp, vz_temp)\n",
    "\n",
    "start = time.time()\n",
    "for i in range(20):\n",
    "    convert_AA_to_Cart(theta_temp, J_temp)\n",
    "delta_t = time.time() - start \n",
    "print(\"Time for 20 AA->Cart conversions: %2.2f s\" % delta_t)\n",
    "\n",
    "start = time.time()\n",
    "for i in range(20):\n",
    "    convert_Cart_to_AA(z_temp, vz_temp)\n",
    "delta_t = time.time() - start \n",
    "print(\"Time for 20 Cart->AA conversions: %2.2f s\" % delta_t)\n"
   ]
  },
  {
   "cell_type": "markdown",
   "id": "1643133b",
   "metadata": {},
   "source": [
    "# interpolation"
   ]
  },
  {
   "cell_type": "markdown",
   "id": "29cb7e3b",
   "metadata": {},
   "source": [
    "### plot qualitative expectations for $z(\\theta,J)$ and $v_z(\\theta,J)$"
   ]
  },
  {
   "cell_type": "code",
   "execution_count": 144,
   "id": "0d6ec9a3",
   "metadata": {
    "scrolled": false
   },
   "outputs": [
    {
     "data": {
      "image/png": "[encoded data removed]",
      "text/plain": [
       "<Figure size 720x504 with 2 Axes>"
      ]
     },
     "metadata": {
      "needs_background": "light"
     },
     "output_type": "display_data"
    }
   ],
   "source": [
    "thetas_temp = np.linspace(0, 2*np.pi*.999, 20)\n",
    "Js_temp = np.linspace(0, 20, 20)\n",
    "thetas_temp, Js_temp = np.meshgrid(thetas_temp, Js_temp)\n",
    "\n",
    "def z_interp_expectation(theta, J):\n",
    "    '''\n",
    "    Expected approximate form of the interpolated z(theta, J).\n",
    "    \n",
    "    '''\n",
    "    \n",
    "    return np.sqrt(J) * np.sin(theta)\n",
    "\n",
    "def vz_interp_expectation(theta, J):\n",
    "    '''\n",
    "    Expected approximate form of the interpolated v_z(theta, J).\n",
    "    \n",
    "    '''\n",
    "    \n",
    "    return np.sqrt(J) * np.cos(theta)\n",
    "\n",
    "plt.imshow(vz_interp_expectation(thetas_temp, Js_temp), cmap=cm.coolwarm, \n",
    "          extent=[np.min(thetas_temp), np.max(thetas_temp), \n",
    "                  np.min(Js_temp), np.max(Js_temp)],\n",
    "          aspect='auto', origin='lower')\n",
    "plt.colorbar()\n",
    "plt.title('qualitative v_z(theta, J)')\n",
    "plt.show()"
   ]
  },
  {
   "cell_type": "code",
   "execution_count": 136,
   "id": "092f9aac",
   "metadata": {
    "scrolled": false
   },
   "outputs": [],
   "source": [
    "# use z_max = 12, v_max = 4.6 since this approx. corresponds to z_max for J=25\n",
    "\n",
    "z_max_for_interp = 12\n",
    "N_z = 20 # number of z's to sample\n",
    "zs = np.linspace(-z_max_for_interp, z_max_for_interp, N_z)\n",
    "\n",
    "vz_max_for_interp = 4.6\n",
    "N_vz = 20 # number of v_z's to sample\n",
    "vzs = np.linspace(-vz_max_for_interp, vz_max_for_interp, N_vz)\n",
    "\n",
    "N = N_z*N_vz"
   ]
  },
  {
   "cell_type": "code",
   "execution_count": 137,
   "id": "89436b4d",
   "metadata": {},
   "outputs": [],
   "source": [
    "# compute (theta, J) coords corresponding to a (z, v_z) grid\n",
    "zs_grid, vzs_grid = np.meshgrid(zs, vzs)\n",
    "thetas_grid, Js_grid = convert_Cart_to_AA_vect(zs_grid, vzs_grid)\n",
    "\n",
    "## flatten data to conform to interp function\n",
    "thetas_grid_flat = thetas_grid.flatten().reshape(N, 1)\n",
    "Js_grid_flat = Js_grid.flatten().reshape(N, 1)\n",
    "\n",
    "theta_J_points = np.concatenate((thetas_grid_flat, Js_grid_flat), axis=1)\n",
    "z_values = zs_grid.flatten()\n",
    "vz_values = vzs_grid.flatten()\n",
    "\n",
    "J_max = 25\n",
    "## include boundary points and their values: (0, 0), (2pi,0), (0, J_max), and (2pi, J_max)\n",
    "theta_J_points_boundary = np.asarray([[0, 0],\n",
    "                                      [2*np.pi, 0],\n",
    "                                      [0, J_max],\n",
    "                                      [2*np.pi,J_max]\n",
    "                                     ])\n",
    "z_values_boundary = np.asarray([0, 0, 0, 0])\n",
    "vz_values_boundary = np.asarray([0, 0, 4.626566501006708, 4.626566501006708])\n",
    "\n",
    "theta_J_points = np.concatenate((theta_J_points, theta_J_points_boundary))\n",
    "z_values = np.concatenate((z_values, z_values_boundary))\n",
    "vz_values = np.concatenate((vz_values, vz_values_boundary))"
   ]
  },
  {
   "cell_type": "markdown",
   "id": "3fe1088e",
   "metadata": {},
   "source": [
    "Source for interpolating a 2D function: [link](https://docs.scipy.org/doc/scipy/reference/generated/scipy.interpolate.interp2d.html)\n",
    "\n",
    "Source for saving a function: "
   ]
  },
  {
   "cell_type": "code",
   "execution_count": 149,
   "id": "1f68db71",
   "metadata": {},
   "outputs": [],
   "source": [
    "# points: 2D array with shape (N_z*N_vz, 2)\n",
    "# values: array with shape (N_z*N_vz)\n",
    "# xi: 2D array with shape (m, 2); points at which to interpolate data\n",
    "\n",
    "# empirically, this does better\n",
    "grid_z_interp = interp.CloughTocher2DInterpolator(theta_J_points, z_values)\n",
    "grid_vz_interp = interp.CloughTocher2DInterpolator(theta_J_points, vz_values)\n",
    "\n",
    "\n",
    "#grid_vz_interp = interp.LinearNDInterpolator(theta_J_points, vz_values)"
   ]
  },
  {
   "cell_type": "code",
   "execution_count": 145,
   "id": "97e10a4c",
   "metadata": {},
   "outputs": [
    {
     "data": {
      "image/png": "[encoded data removed]",
      "text/plain": [
       "<Figure size 720x504 with 2 Axes>"
      ]
     },
     "metadata": {
      "needs_background": "light"
     },
     "output_type": "display_data"
    }
   ],
   "source": [
    "thetas_temp = np.linspace(0, 2*np.pi*.999, 100)\n",
    "Js_temp = np.linspace(0, 25, 100)\n",
    "thetas_temp, Js_temp = np.meshgrid(thetas_temp, Js_temp)\n",
    "\n",
    "plt.imshow(grid_z_interp(thetas_temp, Js_temp), cmap=cm.coolwarm, \n",
    "          extent=[np.min(thetas_temp), np.max(thetas_temp), \n",
    "                  np.min(Js_temp), np.max(Js_temp)],\n",
    "          aspect='auto', origin='lower')\n",
    "\n",
    "plt.colorbar()\n",
    "plt.title('interpolated z(theta, J)')\n",
    "plt.show()"
   ]
  },
  {
   "cell_type": "code",
   "execution_count": 148,
   "id": "5c320500",
   "metadata": {},
   "outputs": [
    {
     "data": {
      "image/png": "[encoded data removed]",
      "text/plain": [
       "<Figure size 720x504 with 2 Axes>"
      ]
     },
     "metadata": {
      "needs_background": "light"
     },
     "output_type": "display_data"
    }
   ],
   "source": [
    "plt.imshow(grid_vz_interp(thetas_temp, Js_temp), cmap=cm.coolwarm, \n",
    "          extent=[np.min(thetas_temp), np.max(thetas_temp), \n",
    "                  np.min(Js_temp), np.max(Js_temp)],\n",
    "          aspect='auto', origin='lower')\n",
    "\n",
    "plt.colorbar()\n",
    "plt.title('interpolated v_z(theta, J)')\n",
    "plt.show()"
   ]
  },
  {
   "cell_type": "code",
   "execution_count": null,
   "id": "13be5e99",
   "metadata": {},
   "outputs": [],
   "source": []
  }
 ],
 "metadata": {
  "kernelspec": {
   "display_name": "Python 3",
   "language": "python",
   "name": "python3"
  },
  "language_info": {
   "codemirror_mode": {
    "name": "ipython",
    "version": 3
   },
   "file_extension": ".py",
   "mimetype": "text/x-python",
   "name": "python",
   "nbconvert_exporter": "python",
   "pygments_lexer": "ipython3",
   "version": "3.9.5"
  }
 },
 "nbformat": 4,
 "nbformat_minor": 5
}
