{
 "cells": [
  {
   "cell_type": "code",
   "execution_count": 2,
   "id": "5109a1b9",
   "metadata": {},
   "outputs": [],
   "source": [
    "# import packages\n",
    "import numpy as np\n",
    "\n",
    "import matplotlib.pyplot as plt\n",
    "import matplotlib.animation as animation\n",
    "\n",
    "from matplotlib import cm\n",
    "from matplotlib.ticker import LinearLocator\n",
    "## set default plot size\n",
    "plt.rcParams[\"figure.figsize\"] = (10, 7)\n",
    "## set global font size\n",
    "plt.rcParams.update({'font.size':14})\n",
    "\n",
    "import astropy.units as u\n",
    "from astropy import constants as const"
   ]
  },
  {
   "cell_type": "markdown",
   "id": "5f1d447e",
   "metadata": {},
   "source": [
    "# The Gaia phase-space snail"
   ]
  },
  {
   "cell_type": "markdown",
   "id": "dd7fbe31",
   "metadata": {},
   "source": [
    "Following Tremaine et al. (2023), I animate the 1D vertical oscillations of stars in a disk, modeled by a self-gravitating isothermal slab.\n",
    "\n",
    "Eqs. 4-8 describe the dynamics of the slab, and Eq. 1 describes the time evolution of any density perturbation."
   ]
  },
  {
   "cell_type": "markdown",
   "id": "c977fe5e",
   "metadata": {},
   "source": [
    "# Slab dynamics"
   ]
  },
  {
   "cell_type": "markdown",
   "id": "8e3d596b",
   "metadata": {},
   "source": [
    "Here, I write down Eqs. 4-8 from Tremaine et al. (2023), which includes the dynamics of the slab and the definitions of our angle-action coordinates.\n",
    "\n",
    "First, I'll simulate just one star at an arbitrary $(\\theta,J)$. Eventually, I'll sample ~10,000-100,000 stars from the distribution function Eq. 6."
   ]
  },
  {
   "cell_type": "markdown",
   "id": "e7c9f2a6",
   "metadata": {},
   "source": [
    "## Vertical oscillation"
   ]
  },
  {
   "cell_type": "markdown",
   "id": "ccda5c58",
   "metadata": {},
   "source": [
    "Suppose a perturbation at time $t_i$ changes the distribution function $f$ by amplitude $f_0(J)$. Furthermore, for simplicity, only consider the perturbation's m=1 Fourier component in $\\theta$. Then this perturbation evolves as:\n",
    "$$f_0(J) \\cos\\left[\\theta - \\Omega(J)(t-t_i)-\\theta_i\\right] $$"
   ]
  },
  {
   "cell_type": "code",
   "execution_count": 24,
   "id": "95dfad1a",
   "metadata": {},
   "outputs": [],
   "source": [
    "def Omega_big(J, Omega_small=1/np.sqrt(2)):\n",
    "    '''\n",
    "    See paragraph after Eq. 8 of Tremaine et al. (2023); orbital frequency\n",
    "    when the action J >> sigma*z_0. Omega_small is the limit of Omega\n",
    "    when J << sigma*z_0.\n",
    "    \n",
    "    '''\n",
    "    \n",
    "    coeff = (Omega_small**2 * np.pi)**2\n",
    "    coeff = (coeff / 3)**(1/3)\n",
    "    return coeff * J**(-1/3)\n",
    "\n",
    "def Omega_big_deriv(J, Omega_small=1/np.sqrt(2)):\n",
    "    '''\n",
    "    Derivative of the function Omega_big wrt J.\n",
    "    \n",
    "    '''\n",
    "    \n",
    "    coeff = (Omega_small**2 * np.pi)**2\n",
    "    coeff = (coeff / 3)**(1/3)\n",
    "    \n",
    "    return coeff * (-1/3) * J**(-4/3)\n",
    "\n",
    "def Omega_interm(J, Omega_small=1/np.sqrt(2)):\n",
    "    '''\n",
    "    The \"intermediate\" expression for Omega: it's a cubic polynomial\n",
    "    interpolation between the low-J and high-J regimes for Omega\n",
    "    (represented by Omega_small and Omega_big, respectively).\n",
    "    \n",
    "    The polynomial is aJ^3 + bJ^2 + cJ + d. (The boundary conditions,\n",
    "    algebra, etc. needed to get the coefficients are in my notes.)\n",
    "    \n",
    "    '''\n",
    "    \n",
    "    x_2 = 10*np.sqrt(2)*Omega_small # 10 times sigma*z_0; we assume that this is \n",
    "                                    # the minimum J corresponding to J >> sigma*z_0\n",
    "    y_2 = Omega_big(x_2)\n",
    "    \n",
    "    a = -2*(y_2 - Omega_small)/(x_2**3) + Omega_big_deriv(x_2)/(x_2**2)\n",
    "    b = 3*(y_2 - Omega_small)/(x_2**2) - Omega_big_deriv(x_2)/x_2\n",
    "    c = 0\n",
    "    d = Omega_small\n",
    "    \n",
    "    return a*J**3 + b*J**2 + c*J + d\n",
    "    \n",
    "\n",
    "def Omega(J):\n",
    "    '''\n",
    "    Eq. 8 of Tremaine et al. (2023); orbital frequency. Refer to notes on \n",
    "    notation and definitions (e.g., definition of Omega_small, setting\n",
    "    z_0 = 0).\n",
    "    \n",
    "    '''\n",
    "    \n",
    "    Omega_small = 1 / np.sqrt(2) # norm'd s.t. sigma*z_0=1\n",
    "    \n",
    "    # 10 times sigma*z_0; we assume that this is \n",
    "    # the minimum J corresponding to J >> sigma*z_0\n",
    "    if (J < 10*np.sqrt(2)*Omega_small):\n",
    "        return Omega_interm(J, Omega_small)\n",
    "    else:\n",
    "        return Omega_big(J, Omega_small)\n",
    "    \n",
    "    \n",
    "def delta_f(J, theta, t, f_0=1, t_i=0, theta_i=0):\n",
    "    '''\n",
    "    Eq. 1 of Tremaine et al. (2023). Suppose a perturbation\n",
    "    at time t_i changes the distribution function f\n",
    "    by amplitude f_0. For simplicity, only consider the m=1\n",
    "    Fourier component in theta. Then, as a function of time,\n",
    "    this perturbation evolves as:\n",
    "    \n",
    "    delta_f(J,theta,t) = f(J,theta,t=0) * cos[theta - Omega(J)(t-t_i) -\n",
    "                          theta_i]\n",
    "    \n",
    "    \n",
    "    '''\n",
    "    \n",
    "    return 0"
   ]
  },
  {
   "cell_type": "code",
   "execution_count": 31,
   "id": "47a56bde",
   "metadata": {},
   "outputs": [
    {
     "data": {
      "text/plain": [
       "[<matplotlib.lines.Line2D at 0x7fd020fccd00>]"
      ]
     },
     "execution_count": 31,
     "metadata": {},
     "output_type": "execute_result"
    },
    {
     "data": {
      "image/png": "[encoded data removed]",
      "text/plain": [
       "<Figure size 720x504 with 1 Axes>"
      ]
     },
     "metadata": {
      "needs_background": "light"
     },
     "output_type": "display_data"
    }
   ],
   "source": [
    "xs = np.arange(0, 20, 1e-1)\n",
    "# vectorized version of Omega, needed since Omega performs boolean ops\n",
    "Omega_vect = np.vectorize(Omega) \n",
    "\n",
    "plt.plot(xs, Omega_vect(xs))"
   ]
  },
  {
   "cell_type": "code",
   "execution_count": null,
   "id": "2abc20c2",
   "metadata": {},
   "outputs": [],
   "source": []
  }
 ],
 "metadata": {
  "kernelspec": {
   "display_name": "Python 3",
   "language": "python",
   "name": "python3"
  },
  "language_info": {
   "codemirror_mode": {
    "name": "ipython",
    "version": 3
   },
   "file_extension": ".py",
   "mimetype": "text/x-python",
   "name": "python",
   "nbconvert_exporter": "python",
   "pygments_lexer": "ipython3",
   "version": "3.9.5"
  }
 },
 "nbformat": 4,
 "nbformat_minor": 5
}
