{
 "cells": [
  {
   "cell_type": "code",
   "execution_count": 1,
   "id": "5109a1b9",
   "metadata": {},
   "outputs": [],
   "source": [
    "# import packages\n",
    "import numpy as np\n",
    "import scipy.integrate as integrate\n",
    "from sympy import *\n",
    "import time\n",
    "\n",
    "import matplotlib.pyplot as plt\n",
    "import matplotlib.colors as colors\n",
    "import matplotlib.animation as animation\n",
    "\n",
    "from matplotlib import cm\n",
    "from matplotlib.ticker import LinearLocator\n",
    "## set default plot size\n",
    "plt.rcParams[\"figure.figsize\"] = (10, 7)\n",
    "## set global font size\n",
    "plt.rcParams.update({'font.size':14})\n",
    "\n",
    "import astropy.units as u\n",
    "from astropy import constants as const"
   ]
  },
  {
   "cell_type": "markdown",
   "id": "5f1d447e",
   "metadata": {},
   "source": [
    "# The Gaia phase-space snail"
   ]
  },
  {
   "cell_type": "markdown",
   "id": "dd7fbe31",
   "metadata": {},
   "source": [
    "Following Tremaine et al. (2023), I animate the 1D vertical oscillations of stars in a disk, modeled by a self-gravitating isothermal slab.\n",
    "\n",
    "Eqs. 4-8 describe the dynamics of the slab, and Eq. 1 describes the time evolution of any density perturbation."
   ]
  },
  {
   "cell_type": "markdown",
   "id": "c977fe5e",
   "metadata": {},
   "source": [
    "# Slab dynamics"
   ]
  },
  {
   "cell_type": "markdown",
   "id": "8e3d596b",
   "metadata": {},
   "source": [
    "Here, I write down Eqs. 4-8 from Tremaine et al. (2023), which includes the dynamics of the slab and the definitions of our angle-action coordinates.\n",
    "\n",
    "First, I'll simulate just one star at an arbitrary $(\\theta,J)$. Eventually, I'll sample ~10,000-100,000 stars from the distribution function Eq. 6."
   ]
  },
  {
   "cell_type": "code",
   "execution_count": 2,
   "id": "95dfad1a",
   "metadata": {
    "code_folding": [
     0
    ]
   },
   "outputs": [],
   "source": [
    "## Omega definitions\n",
    "def Omega_big(J, Omega_small=1/np.sqrt(2)):\n",
    "    '''\n",
    "    See paragraph after Eq. 8 of Tremaine et al. (2023); orbital frequency\n",
    "    when the action J >> sigma*z_0. Omega_small is the limit of Omega\n",
    "    when J << sigma*z_0.\n",
    "    \n",
    "    '''\n",
    "    \n",
    "    coeff = (Omega_small**2 * np.pi)**2\n",
    "    coeff = (coeff / 3)**(1/3)\n",
    "    return coeff * J**(-1/3)\n",
    "\n",
    "def Omega_big_deriv(J, Omega_small=1/np.sqrt(2)):\n",
    "    '''\n",
    "    Derivative of the function Omega_big wrt J.\n",
    "    \n",
    "    '''\n",
    "    \n",
    "    coeff = (Omega_small**2 * np.pi)**2\n",
    "    coeff = (coeff / 3)**(1/3)\n",
    "    \n",
    "    return coeff * (-1/3) * J**(-4/3)\n",
    "\n",
    "def Omega_interm(J, Omega_small=1/np.sqrt(2)):\n",
    "    '''\n",
    "    The \"intermediate\" expression for Omega: it's an\n",
    "    interpolation between the low-J and high-J regimes for Omega\n",
    "    (represented by Omega_small and Omega_big, respectively).\n",
    "    \n",
    "    The interpolated function has form a / (1 + b*J)^{1/3}. \n",
    "    \n",
    "    '''\n",
    "    \n",
    "    # Omega=Omega_small for J=0\n",
    "    a = Omega_small\n",
    "    # coefficient in Omega_big expression\n",
    "    Omega_big_coeff = Omega_big(1, Omega_small) \n",
    "    # for large J, Omega_big ~ Omega_big_coeff * J^{-1/3} ~ a / (b*J)^{1/3},\n",
    "    # which implies b^(1/3) ~ a/Omega_big_coeff\n",
    "    b = (a / Omega_big_coeff)**3\n",
    "    \n",
    "    num = a\n",
    "    denom = (1 + b*J)**(1/3)\n",
    "    return num / denom\n",
    "    \n",
    "\n",
    "def Omega(J):\n",
    "    '''\n",
    "    Eq. 8 of Tremaine et al. (2023); orbital frequency. Refer to notes on \n",
    "    notation and definitions (e.g., definition of Omega_small, setting\n",
    "    z_0 = 0).\n",
    "    \n",
    "    '''\n",
    "    \n",
    "    Omega_small = 1 / np.sqrt(2) # norm'd s.t. sigma*z_0=1\n",
    "    \n",
    "    return Omega_interm(J, Omega_small) \n",
    "\n",
    "def dOmega_dJ(J, Omega_small=1/np.sqrt(2)):\n",
    "    '''\n",
    "    Derivative of Omega(J), assuming that Omega(J) = a / (1 + b*J)^{1/3}. . I got\n",
    "    this expression for the derivative from Wolfram Alpha.\n",
    "    \n",
    "    '''\n",
    "    \n",
    "    # Omega=Omega_small for J=0\n",
    "    a = Omega_small \n",
    "    # coefficient in Omega_big expression\n",
    "    Omega_big_coeff = Omega_big(1, Omega_small) \n",
    "    # for large J, Omega_big ~ Omega_big_coeff * J^{-1/3} ~ a / (b*J)^{1/3},\n",
    "    # which implies b^(1/3) ~ a/Omega_big_coeff\n",
    "    b = (a / Omega_big_coeff)**3\n",
    "    \n",
    "    num = -a*b/3\n",
    "    denom = (1 + b*J)**(4/3)\n",
    "\n",
    "    return num / denom"
   ]
  },
  {
   "cell_type": "markdown",
   "id": "e7c9f2a6",
   "metadata": {},
   "source": [
    "## Vertical oscillation"
   ]
  },
  {
   "cell_type": "markdown",
   "id": "ccda5c58",
   "metadata": {},
   "source": [
    "Suppose a perturbation at time $t_i$ changes the distribution function $f$ by amplitude $f_0(J)$. Furthermore, for simplicity, only consider the perturbation's m=1 Fourier component in $\\theta$. Then this perturbation evolves as:\n",
    "$$f_0(J) \\cos\\left[\\theta - \\Omega(J)(t-t_i)-\\theta_i\\right] $$"
   ]
  },
  {
   "cell_type": "code",
   "execution_count": null,
   "id": "22621844",
   "metadata": {
    "code_folding": [
     0
    ]
   },
   "outputs": [],
   "source": [
    "def delta_f_phase_mixing(theta, J, t, A_0=1, t_i=0, theta_i=0):\n",
    "    '''\n",
    "    Eq. 1 of Tremaine et al. (2023). Suppose a perturbation\n",
    "    at time t_i changes the distribution function f\n",
    "    by amplitude A_0. For simplicity, only consider the \n",
    "    m=1 Fourier component in theta. Then, as a function of time,\n",
    "    this perturbation evolves as:\n",
    "    \n",
    "    delta_f(theta,J,t) = A_0 * cos[theta - Omega(J)(t-t_i) - theta_i]\n",
    "    \n",
    "    '''\n",
    "        \n",
    "    phase = theta - Omega(J)*(t-t_i) - theta_i\n",
    "    \n",
    "    return A_0 * np.cos(phase)"
   ]
  },
  {
   "cell_type": "markdown",
   "id": "39c40be0",
   "metadata": {},
   "source": [
    "### 2D animations in matplotlib"
   ]
  },
  {
   "cell_type": "markdown",
   "id": "77bf351e",
   "metadata": {},
   "source": [
    "Adapting my code from my \"Phase Mixing Plots\" notebook."
   ]
  },
  {
   "cell_type": "markdown",
   "id": "98a4eff5",
   "metadata": {},
   "source": [
    "Sources for using FuncAnimation instead of ArtistAnimation:\n",
    "\n",
    "https://matplotlib.org/stable/api/_as_gen/matplotlib.animation.FuncAnimation.html\n",
    "\n",
    "https://stackoverflow.com/questions/18274137/how-to-animate-text-in-matplotlib"
   ]
  },
  {
   "cell_type": "markdown",
   "id": "652c501d",
   "metadata": {},
   "source": [
    "## sanity check: plot $\\delta f$ as $\\Omega$ vs. $\\theta$"
   ]
  },
  {
   "cell_type": "code",
   "execution_count": null,
   "id": "ba14b074",
   "metadata": {
    "code_folding": [
     0
    ]
   },
   "outputs": [],
   "source": [
    "def delta_f_Omega_explicit(theta, Omega, t, A_0=1, t_i=0, theta_i=0):\n",
    "    '''\n",
    "    Same as delta_f, but we explicitly define Omega instead of \n",
    "    calculating it via J.\n",
    "    \n",
    "    delta_f(theta,J,t) = A_0 * cos[theta - Omega(J)(t-t_i) - theta_i]\n",
    "    \n",
    "    '''\n",
    "        \n",
    "    phase = theta - Omega*(t-t_i) - theta_i\n",
    "    \n",
    "    return A_0 * np.cos(phase)"
   ]
  },
  {
   "cell_type": "code",
   "execution_count": null,
   "id": "a3010086",
   "metadata": {
    "code_folding": [
     0
    ]
   },
   "outputs": [],
   "source": [
    "# time range\n",
    "tmin = 0\n",
    "tmax = 10 # in Fig. 3, the time T-t_i goes to 100\n",
    "tstep = 0.5\n",
    "ts = np.arange(tmin, tmax, tstep)\n",
    "\n",
    "# phase space (angle vs. action) grid\n",
    "theta_min = 0\n",
    "theta_max = 2*np.pi\n",
    "Omega_min = 0.\n",
    "Omega_max = 0.7\n",
    "step = 2e-2\n",
    "\n",
    "thetas = np.arange(theta_min, theta_max, theta_max/50)\n",
    "Omegas = np.arange(Omega_min, Omega_max, step)\n",
    "thetas, Omegas = np.meshgrid(thetas, Omegas)"
   ]
  },
  {
   "cell_type": "code",
   "execution_count": null,
   "id": "9b9bacc4",
   "metadata": {
    "code_folding": [
     0
    ],
    "scrolled": true
   },
   "outputs": [],
   "source": [
    "## plot delta_f in Omega vs. theta space\n",
    "fig, ax = plt.subplots(1,1,figsize=(10,10))\n",
    "\n",
    "# initialize the color bar\n",
    "Z = delta_f_Omega_explicit(thetas, Omegas, t=0)\n",
    "im = ax.imshow(Z, cmap=cm.coolwarm, origin='lower', \\\n",
    "       extent=(theta_min, theta_max, Omega_min, Omega_max), animated=True, \\\n",
    "       aspect='auto') # automatically set plot's aspect ratio\n",
    "fig.colorbar(im)\n",
    "\n",
    "ax.set_xlabel(r'$\\theta$')\n",
    "ax.set_ylabel(r'$\\Omega$')\n",
    "\n",
    "# the overdensity at theta=0 as a function of time; ie, delta_n(theta=0, t)\n",
    "delta_n_array = []\n",
    "\n",
    "def init():\n",
    "    im.set_data([])\n",
    "    return im\n",
    "\n",
    "def updatefig(num):\n",
    "\n",
    "    t = ts[num]\n",
    "    Z = delta_f_Omega_explicit(thetas, Omegas, t)\n",
    "    \n",
    "    delta_n = np.sum(Z[:, 0]) # integrate over J\n",
    "    delta_n_array.append(delta_n)\n",
    "    \n",
    "    ## plot delta_f in Omega vs. theta phase space\n",
    "    Z = Z[:-1, :-1]\n",
    "    im.set_data(Z)\n",
    "    \n",
    "    ax.set_title('Gaia phase mixing (t=' + str(t) + ')')\n",
    "    \n",
    "    return im,\n",
    "\n",
    "\n",
    "ani = animation.FuncAnimation(fig, updatefig, frames=len(ts), interval=100, blit=True)\n",
    "\n",
    "ani.save(\"Gaia_phase_mixing_func_temp.mp4\")"
   ]
  },
  {
   "cell_type": "markdown",
   "id": "4e52bcf2",
   "metadata": {},
   "source": [
    "## plot $\\delta f$ in angle-action coords"
   ]
  },
  {
   "cell_type": "code",
   "execution_count": null,
   "id": "347636b5",
   "metadata": {
    "code_folding": [
     0
    ]
   },
   "outputs": [],
   "source": [
    "## set bounds for t, theta, and J\n",
    "\n",
    "# time range\n",
    "tmin = 0\n",
    "tmax = 100 # in Fig. 3, the time T-t_i goes to 100\n",
    "tstep = 0.5\n",
    "ts = np.arange(tmin, tmax, tstep)\n",
    "\n",
    "# phase space (angle vs. action) grid\n",
    "theta_min = 0\n",
    "theta_max = 2*np.pi\n",
    "theta_step = theta_max/100\n",
    "\n",
    "J_min = 1e-5\n",
    "# in Scott's paper, the max. value of (v/sigma)*(z/z_0) ~ 20 in Fig. 3, and \n",
    "# we norm'd s.t. sigma*z_0=1. from eq. 7, J is roughly prop to v*z \n",
    "J_max = 10 \n",
    "step = 1e-2\n",
    "\n",
    "thetas = np.arange(theta_min, theta_max, theta_step)\n",
    "Js = np.arange(J_min, J_max, step)\n",
    "thetas, Js = np.meshgrid(thetas, Js)\n",
    "\n",
    "# test that delta_f can take in a meshgrid\n",
    "Z = delta_f(thetas, Js, 0.)"
   ]
  },
  {
   "cell_type": "markdown",
   "id": "b8ac243d",
   "metadata": {},
   "source": [
    "### define sqrt scale\n",
    "Source: https://stackoverflow.com/questions/42277989/square-root-scale-using-matplotlib-python"
   ]
  },
  {
   "cell_type": "code",
   "execution_count": null,
   "id": "e1598595",
   "metadata": {
    "code_folding": [
     0
    ]
   },
   "outputs": [],
   "source": [
    "## define square root scale for y axis\n",
    "import matplotlib.scale as mscale\n",
    "import matplotlib.transforms as mtransforms\n",
    "import matplotlib.ticker as ticker\n",
    "\n",
    "class SquareRootScale(mscale.ScaleBase):\n",
    "    \"\"\"\n",
    "    ScaleBase class for generating square root scale.\n",
    "    \"\"\"\n",
    " \n",
    "    name = 'squareroot'\n",
    " \n",
    "    def __init__(self, axis, **kwargs):\n",
    "        # note in older versions of matplotlib (<3.1), this worked fine.\n",
    "        # mscale.ScaleBase.__init__(self)\n",
    "\n",
    "        # In newer versions (>=3.1), you also need to pass in `axis` as an arg\n",
    "        mscale.ScaleBase.__init__(self, axis)\n",
    " \n",
    "    def set_default_locators_and_formatters(self, axis):\n",
    "        axis.set_major_locator(ticker.AutoLocator())\n",
    "        axis.set_major_formatter(ticker.ScalarFormatter())\n",
    "        axis.set_minor_locator(ticker.NullLocator())\n",
    "        axis.set_minor_formatter(ticker.NullFormatter())\n",
    " \n",
    "    def limit_range_for_scale(self, vmin, vmax, minpos):\n",
    "        return  max(0., vmin), vmax\n",
    " \n",
    "    class SquareRootTransform(mtransforms.Transform):\n",
    "        input_dims = 1\n",
    "        output_dims = 1\n",
    "        is_separable = True\n",
    " \n",
    "        def transform_non_affine(self, a): \n",
    "            return np.array(a)**0.5\n",
    " \n",
    "        def inverted(self):\n",
    "            return SquareRootScale.InvertedSquareRootTransform()\n",
    " \n",
    "    class InvertedSquareRootTransform(mtransforms.Transform):\n",
    "        input_dims = 1\n",
    "        output_dims = 1\n",
    "        is_separable = True\n",
    " \n",
    "        def transform(self, a):\n",
    "            return np.array(a)**2\n",
    " \n",
    "        def inverted(self):\n",
    "            return SquareRootScale.SquareRootTransform()\n",
    " \n",
    "    def get_transform(self):\n",
    "        return self.SquareRootTransform()\n",
    " \n",
    "mscale.register_scale(SquareRootScale)"
   ]
  },
  {
   "cell_type": "code",
   "execution_count": null,
   "id": "b68bfdd0",
   "metadata": {
    "code_folding": [
     0
    ],
    "scrolled": true
   },
   "outputs": [],
   "source": [
    "## phase mixing animation (J vs theta)\n",
    "fig, ax = plt.subplots(1,1,figsize=(10,10))\n",
    "\n",
    "# initialize the color bar\n",
    "Z = delta_f_phase_mixing(thetas, Js, 0)\n",
    "im = ax.imshow(Z, cmap=cm.coolwarm, origin='lower', \\\n",
    "                   extent=(theta_min, theta_max, J_min, J_max), animated=True, \\\n",
    "                   aspect='auto') # automatically set plot's aspect ratiofig.colorbar(im)\n",
    "\n",
    "ax.set_xlabel(r\"$\\theta$\")\n",
    "ax.set_ylabel(r\"$J$\")\n",
    "## scale the J axis to be linear in sqrt(J)\n",
    "ax.set_yscale('squareroot')\n",
    "ax.set_yticks(np.arange(J_min, J_max, 1))\n",
    "ax.set_yticks(np.arange(J_min, J_max, 0.5), minor=True)\n",
    "\n",
    "# the overdensity at theta=0 as a function of time; ie, delta_n(theta=0, t)\n",
    "delta_n_array = []\n",
    "\n",
    "def init():\n",
    "    im.set_data([])\n",
    "    return im\n",
    "\n",
    "start = time.time()\n",
    "def updatefig(num):\n",
    "\n",
    "    t = ts[num]\n",
    "    if ((t % 5) == 0):\n",
    "        print(\"t = \" + str(t))\n",
    "        print(f'Elapsed t: {np.round(time.time() - start, 1)} seconds')\n",
    "        \n",
    "    Z = delta_f_phase_mixing(thetas, Js, t)\n",
    "    delta_n = np.sum(Z[:, 0]) # integrate over J\n",
    "    delta_n_array.append(delta_n)\n",
    "    \n",
    "    ## plot delta_f in J vs. theta phase space\n",
    "    Z = Z[:-1, :-1]\n",
    "    im.set_data(Z)\n",
    "    \n",
    "    ax.set_title('Gaia phase mixing (t=' + str(t) + ')')\n",
    "    \n",
    "    return im,\n",
    "\n",
    "\n",
    "ani = animation.FuncAnimation(fig, updatefig, frames=len(ts), interval=100, blit=True)\n",
    "\n",
    "ani.save(\"Gaia_phase_mixing_func_temp.mp4\")"
   ]
  },
  {
   "cell_type": "code",
   "execution_count": null,
   "id": "3549851e",
   "metadata": {
    "scrolled": true
   },
   "outputs": [],
   "source": [
    "# density at theta=0\n",
    "plt.plot(ts, delta_n_array[2:])"
   ]
  },
  {
   "cell_type": "markdown",
   "id": "ff3e9432",
   "metadata": {},
   "source": [
    "## Plotting $\\delta f$ in polar coordinates"
   ]
  },
  {
   "cell_type": "markdown",
   "id": "651e6010",
   "metadata": {},
   "source": [
    "For now, I'll assume that vertical position $z$ corresponds to $\\sqrt{J} \\cos\\theta$ and vertical velocity $v_z$ corresponds to $\\sqrt{J} \\sin\\theta$. This isn't completely accurate because this assumes harmonic oscillations, while our system has an anharmonic oscillations. However, I'm making this assumption just so that I set up the code for integrating over $v_z$."
   ]
  },
  {
   "cell_type": "markdown",
   "id": "512dd10e",
   "metadata": {},
   "source": [
    "Python conversion between coordinates: https://stackoverflow.com/questions/20924085/python-conversion-between-coordinates\n",
    "\n",
    "Imshow in polar coordinates: https://stackoverflow.com/questions/54209640/imshow-in-polar-coordinates\n",
    "\n",
    "Using set_array to (properly) update the data in the figure at each timestep: https://stackoverflow.com/questions/18797175/animation-with-pcolormesh-routine-in-matplotlib-how-do-i-initialize-the-data\n",
    "\n",
    "And a very detailed animation example: http://jakevdp.github.io/blog/2012/08/18/matplotlib-animation-tutorial/"
   ]
  },
  {
   "cell_type": "code",
   "execution_count": 3,
   "id": "f779eb87",
   "metadata": {
    "code_folding": [
     2
    ]
   },
   "outputs": [],
   "source": [
    "## function for converting (thetas, Js) to (x_vals, y_vals)\n",
    "\n",
    "def pol2cart_meshgrid(thetas, Js):\n",
    "    '''\n",
    "    Given a meshgrid of angles and actions (thetas, Js), return the \n",
    "    corresponding meshgrid in Cartesian coordinates.\n",
    "    \n",
    "    '''\n",
    "    \n",
    "    xs = np.sqrt(Js) * np.cos(thetas)\n",
    "    ys = np.sqrt(Js) * np.sin(thetas)\n",
    "    \n",
    "    return xs, ys"
   ]
  },
  {
   "cell_type": "code",
   "execution_count": null,
   "id": "237f2c96",
   "metadata": {
    "code_folding": [
     0
    ],
    "scrolled": true
   },
   "outputs": [],
   "source": [
    "## phase mixing snail plot\n",
    "fig, ax = plt.subplots(1,1,figsize=(12,10))\n",
    "\n",
    "Z = delta_f(thetas, Js, 0)\n",
    "# quad mesh\n",
    "quad1 = ax.pcolormesh(x_vals,y_vals,Z, cmap=cm.coolwarm, animated=True)\n",
    "fig.colorbar(quad1, ax=ax)\n",
    "\n",
    "ax.set_xlabel(r\"$\\sqrt{J}$ cos($\\theta$)\")\n",
    "ax.set_ylabel(r\"$\\sqrt{J}$ sin($\\theta$)\")\n",
    "\n",
    "def init():\n",
    "    quad1.set_array([])\n",
    "    return quad1\n",
    "\n",
    "start = time.time()\n",
    "\n",
    "def updatefig(num):\n",
    "    # global im\n",
    "    t = ts[num]\n",
    "    if ((t % 5) == 0):\n",
    "        print(\"t = \" + str(t))\n",
    "        print(f'Elapsed t: {np.round(time.time() - start, 1)} seconds')\n",
    "\n",
    "    Z = delta_f(thetas, Js, t)\n",
    "    Z = Z[:-1, :-1]\n",
    "    quad1.set_array(Z.ravel())\n",
    "    \n",
    "    ax.set_title('$\\delta f$ (t=' + str(t) + ')')\n",
    "    \n",
    "    return quad1,\n",
    "\n",
    "\n",
    "ani = animation.FuncAnimation(fig, updatefig, interval=100, frames=len(ts), blit=True)\n",
    "\n",
    "ani.save(\"Gaia_pm_polar_temp.mp4\")"
   ]
  },
  {
   "cell_type": "code",
   "execution_count": null,
   "id": "c4ce29d2",
   "metadata": {
    "code_folding": [
     0
    ],
    "scrolled": true
   },
   "outputs": [],
   "source": [
    "## plotting the Gaia phase mixing snail at 1 timepoint\n",
    "# plt.clf()\n",
    "# fig, ax = plt.subplots(1,1,figsize=(12,10))\n",
    "\n",
    "# # test that we can plot delta_f at a given t\n",
    "# Z = delta_f(thetas, Js, 25.5)\n",
    "\n",
    "# im = ax.pcolormesh(x_vals,y_vals,Z,cmap=cm.coolwarm, animated=True)\n",
    "\n",
    "# fig.colorbar(im, ax=ax)\n",
    "\n",
    "# ax.set_xlabel(r\"$\\sqrt{J}$ cos($\\theta$)\")\n",
    "# ax.set_ylabel(r\"$\\sqrt{J}$ sin($\\theta$)\")\n",
    "# ax.set_title(\"$\\delta f$\")\n",
    "\n",
    "# plt.show()"
   ]
  },
  {
   "cell_type": "markdown",
   "id": "af173b97",
   "metadata": {},
   "source": [
    "# Plotting the full second-order solution"
   ]
  },
  {
   "cell_type": "code",
   "execution_count": 4,
   "id": "16bcb865",
   "metadata": {
    "code_folding": [
     0,
     1
    ]
   },
   "outputs": [],
   "source": [
    "## definitions for Hamiltonian and f0 (and its derivatives)\n",
    "def Hamiltonian(J, Omega_small=1/np.sqrt(2)):\n",
    "    '''\n",
    "    Computes the Hamiltonian of our system by integrating Omega(J)\n",
    "    from 0 to J. (Underneath Eq. 8 in Scott's paper, it's stated that\n",
    "    Omega = dH/dJ.) We assume that Omega=0 for H=0.\n",
    "    \n",
    "    Also, we use Omega = a/(1 + b*J^{1/3}). I got the form of the \n",
    "    integral from Wolfram Alpha.\n",
    "    \n",
    "    \n",
    "    '''\n",
    "    \n",
    "    # Omega=Omega_small for J=0\n",
    "    a = Omega_small \n",
    "    # coefficient in Omega_big expression\n",
    "    Omega_big_coeff = Omega_big(1, Omega_small) \n",
    "    # for large J, Omega_big ~ Omega_big_coeff * J^{-1/3} ~ a/b * J^{-1/3}\n",
    "    b = a / Omega_big_coeff\n",
    "    \n",
    "    expr1 = b*J**(1/3) * (b*J**(1/3) - 2)\n",
    "    expr2 = 2*np.log(b*J**(1/3) + 1)\n",
    "    numerator = 3*a*(expr1 + expr2)\n",
    "    denominator = 2 * b**3\n",
    "    \n",
    "    return numerator/denominator\n",
    "\n",
    "def f_0(J): \n",
    "    '''\n",
    "    Initial distribution function of our system, using Eq. 6 of Scott's\n",
    "    paper (ignoring the constant coefficient).\n",
    "    \n",
    "    '''\n",
    "    \n",
    "    return np.exp(-1*Hamiltonian(J))\n",
    "\n",
    "def df0_dJ(J):\n",
    "    '''\n",
    "    The derivative of our initial distribution function, f_0(J) ~ exp(-H(J)). \n",
    "    We have df_0/dJ = -dH/dJ * exp(-H) = -Omega(J) * exp(-H).\n",
    "    \n",
    "    '''\n",
    "    \n",
    "    return -Omega(J) * np.exp(-1*Hamiltonian(J))\n",
    "\n",
    "def f0_second_deriv(J):\n",
    "    '''\n",
    "    The second derivative of our initial distribution function, f_0(J) ~ exp(-H(J)). \n",
    "    By product rule, taking the derivative of df_0/dJ yields:\n",
    "    \n",
    "    -dOmega/dJ * exp(-H) + -Omega * [-dH/dJ * exp(-H)] = -dOmega/dJ * exp(-H) + (Omega^2)*exp(-H)\n",
    "    = (-dOmega/dJ + Omega^2) * exp(-H)\n",
    "    \n",
    "    '''\n",
    "        \n",
    "    coeff = Omega(J)**2 - dOmega_dJ(J)\n",
    "    \n",
    "    return coeff * np.exp(-1*Hamiltonian(J))"
   ]
  },
  {
   "cell_type": "code",
   "execution_count": 18,
   "id": "25257f01",
   "metadata": {
    "code_folding": [
     0,
     11,
     29,
     39
    ]
   },
   "outputs": [],
   "source": [
    "def delta_f_full(theta, J, t, t1, t2, n1, n2, A1, A2): \n",
    "    '''\n",
    "    Represents the full solution to delta_f up to second order:\n",
    "    \n",
    "    delta_f = f^1 + epsilon*f^2 \n",
    "    \n",
    "    '''\n",
    "    \n",
    "    return delta_f_1(theta, J, t, t1, t2, n1, n2, A1, A2) + \\\n",
    "            delta_f_2(theta, J, t, t1, t2, n1, n2, A1, A2)\n",
    "\n",
    "def delta_f_1(theta, J, t, t1, t2, n1, n2, A1, A2): \n",
    "    '''\n",
    "    Represents the first-order solution for delta_f given two hammers:\n",
    "    One with amplitude A1 at time t1, and one with amplitude A2 at time t2.\n",
    "    \n",
    "    '''\n",
    "    \n",
    "    expr1 = (-2) * n1 * A1 * df0_dJ(J) * np.sin(n1 * (theta - Omega(J)*(t-t1)))\n",
    "    expr2 = (-2) * n2 * A2 * df0_dJ(J) * np.sin(n2 * (theta - Omega(J)*(t-t2)))\n",
    "    \n",
    "    # Heaviside coefficients on each expression\n",
    "    if (t < t1):\n",
    "        expr1 = 0\n",
    "    if (t < t2):\n",
    "        expr2 = 0\n",
    "    \n",
    "    return expr1 + expr2\n",
    "\n",
    "def delta_f_2(theta, J, t, t1, t2, n1, n2, A1, A2): \n",
    "    '''\n",
    "    Represents the first-order solution for delta_f given two hammers:\n",
    "    One with amplitude A1 at time t1, and one with amplitude A2 at time t2.\n",
    "    \n",
    "    '''\n",
    "    \n",
    "    return delta_f_2_pm(theta, J, t, t1, t2, n1, n2, A1, A2) + \\\n",
    "                delta_f_2_echo(theta, J, t, t1, t2, n1, n2, A1, A2)\n",
    "\n",
    "def delta_f_2_pm(theta, J, t, t1, t2, n1, n2, A1, A2,\n",
    "                 dOmega_dJ_is_zero=False):\n",
    "    '''\n",
    "    Represents the phase-mixing (i.e., non-echo) component of the second-order solution for delta_f \n",
    "    given two hammers: One with amplitude A1 at time t1, and one with\n",
    "    amplitude A2 at time t2.\n",
    "    \n",
    "    This formula assumes that A1 and A2 are constant; i.e., independent of J.\n",
    "    \n",
    "    '''\n",
    "    \n",
    "    # Heaviside function coefficient H(t-t_2), defined to be 0 at 0\n",
    "    if (t < t2):\n",
    "        return 0\n",
    "    \n",
    "    t_pm = (n1*t1 + n2*t2) / (n1 + n2)\n",
    "    \n",
    "    # function that contains the time evolution\n",
    "    xi = (n1 + n2) * (theta - Omega(J)*(t - t_pm))\n",
    "        \n",
    "    expr1 = (-2)*A1*A2 * np.cos(xi) * n1*n2* f0_second_deriv(J)\n",
    "    expr2 = (-2)*A1*A2 * np.sin(xi) * n1**2 * n2 * (t2-t1) * dOmega_dJ(J) * df0_dJ(J)\n",
    "    \n",
    "    # assume that dOmega_dJ = 0\n",
    "    if dOmega_dJ_is_zero:\n",
    "        return expr1\n",
    "    \n",
    "    return expr1 + expr2\n",
    "    \n",
    "\n",
    "def delta_f_2_echo(theta, J, t, t1, t2, n1, n2, A1, A2,\n",
    "                   dOmega_dJ_is_zero=False):\n",
    "    '''\n",
    "    Represents the echo component of the second-order solution for delta_f \n",
    "    given two hammers: One with amplitude A1 at time t1, and one with \n",
    "    amplitude A2 at time t2. See the last equations in Section 7.3 in my \n",
    "    senior thesis notes.\n",
    "    \n",
    "    This formula assumes that A1 and A2 are constant; i.e., independent of J.\n",
    "    \n",
    "    '''\n",
    "    \n",
    "    # Heaviside function coefficient H(t-t_2)\n",
    "    if (t < t2):\n",
    "        return 0\n",
    "    \n",
    "    t_echo = (n2*t2 - n1*t1) / (n2 - n1)\n",
    "    \n",
    "    # function that contains the time evolution\n",
    "    psi = (n2 - n1) * (theta - Omega(J)*(t - t_echo))\n",
    "        \n",
    "    expr1 = 2*A1*A2 * np.cos(psi) * n1*n2* f0_second_deriv(J)\n",
    "    expr2 = (-2)*A1*A2 * np.sin(psi) * n1**2 * n2 * (t2-t1) * dOmega_dJ(J) * df0_dJ(J)\n",
    "    \n",
    "    # assume that dOmega_dJ = 0\n",
    "    if dOmega_dJ_is_zero:\n",
    "        return expr1\n",
    "    \n",
    "    return expr1 + expr2"
   ]
  },
  {
   "cell_type": "markdown",
   "id": "de4ee746",
   "metadata": {},
   "source": [
    "The predicted echo time for the below parameters is:\n",
    "\n",
    "$$\\frac{n_2 t_2 - n_1 t_1}{n_2 - n_1} = \\frac{3\\cdot100 - 0}{2} = 150 $$"
   ]
  },
  {
   "cell_type": "code",
   "execution_count": 6,
   "id": "680c4c36",
   "metadata": {},
   "outputs": [],
   "source": [
    "# hammer parameters (t_i, n_i, A_i)\n",
    "t1, t2 = 0, 100\n",
    "n1, n2 = 1, 3\n",
    "A1, A2 = 0.1, 0.2"
   ]
  },
  {
   "cell_type": "code",
   "execution_count": 8,
   "id": "3abbebb1",
   "metadata": {
    "code_folding": []
   },
   "outputs": [],
   "source": [
    "# time range\n",
    "tmin = t1\n",
    "tmax = 200 # in Matt's animation, t goes to 35\n",
    "tstep = 0.5\n",
    "ts = np.arange(tmin, tmax+tstep, tstep)\n",
    "\n",
    "# phase space (angle vs. action) grid\n",
    "theta_min = 0\n",
    "theta_max = 2*np.pi\n",
    "# should split into four equally since we want data at theta = pi/2, pi, 3pi/2\n",
    "num_thetas_sampled = 80\n",
    "theta_step = theta_max/num_thetas_sampled\n",
    "\n",
    "J_min = 0\n",
    "# in Scott's paper, the max. value of (v/sigma)*(z/z_0) ~ 20 in Fig. 3, and \n",
    "# we norm'd s.t. sigma*z_0=1. from eq. 7, J is roughly prop to v*z \n",
    "J_max = 20\n",
    "J_step = 0.1\n",
    "\n",
    "thetas = np.arange(theta_min, theta_max, theta_step)\n",
    "Js = np.arange(J_min, J_max, J_step)\n",
    "# thetas, Js are generated from a meshgrid \n",
    "thetas, Js = np.meshgrid(thetas, Js) # both thetas and Js has shape (# of Js, # of thetas)\n",
    "\n",
    "x_vals, y_vals = pol2cart_meshgrid(thetas, Js)"
   ]
  },
  {
   "cell_type": "markdown",
   "id": "e304cbc8",
   "metadata": {},
   "source": [
    "Symmetric log for the color bar: https://matplotlib.org/stable/users/explain/colors/colormapnorms.html#symmetric-logarithmic"
   ]
  },
  {
   "cell_type": "code",
   "execution_count": 17,
   "id": "4f3ac6d3",
   "metadata": {},
   "outputs": [
    {
     "data": {
      "text/plain": [
       "0"
      ]
     },
     "execution_count": 17,
     "metadata": {},
     "output_type": "execute_result"
    }
   ],
   "source": [
    "delta_f_full(thetas, Js, 0, t1=0, t2=100, n1=1, n2=3, A1=0.1, A2=0.2)"
   ]
  },
  {
   "cell_type": "code",
   "execution_count": 25,
   "id": "d54b00ca",
   "metadata": {
    "code_folding": [],
    "scrolled": false
   },
   "outputs": [
    {
     "data": {
      "image/png": "[encoded data removed]",
      "text/plain": [
       "<Figure size 864x720 with 2 Axes>"
      ]
     },
     "metadata": {
      "needs_background": "light"
     },
     "output_type": "display_data"
    }
   ],
   "source": [
    "## one snapshot of phase space \n",
    "Z = delta_f_full(thetas, Js, 130, t1=0, t2=100, n1=1, n2=3, A1=0.1, A2=0.2)\n",
    "\n",
    "fig, ax = plt.subplots(1, 1, figsize=(12,10))\n",
    "\n",
    "im = ax.pcolormesh(thetas, Js, Z, norm=colors.SymLogNorm(linthresh=1e-6, linscale=1e-6,\\\n",
    "                               base=10),\\\n",
    "                       cmap=cm.coolwarm, shading='auto')\n",
    "ticks = [-1e-5, -1e-4, -1e-3, -1e-2, -1e-1, 0, 1e-5, 1e-4, 1e-3, 1e-2, 1e-1]\n",
    "cbar = fig.colorbar(im, ax=ax, extend='both', ticks=ticks)\n",
    "\n",
    "plt.show()"
   ]
  },
  {
   "cell_type": "code",
   "execution_count": null,
   "id": "fd770a28",
   "metadata": {
    "code_folding": [
     0
    ],
    "scrolled": true
   },
   "outputs": [],
   "source": [
    "## echo term ONLY plotted in J/theta coords\n",
    "\n",
    "fig, ax = plt.subplots(1,1,figsize=(12,10))\n",
    "\n",
    "# initialize the color bar\n",
    "Z = delta_f_2_echo(thetas, Js, 100, t1, t2, n1, n2, A1, A2)\n",
    "quad1 = ax.pcolormesh(thetas, Js, Z, norm=colors.SymLogNorm(linthresh=1e-6, linscale=1e-6,\\\n",
    "                        base=10),\\\n",
    "                       cmap=cm.coolwarm, shading='auto')\n",
    "fig.colorbar(quad1, ax=ax, extend='both')\n",
    "\n",
    "ax.set_xlabel(r\"$\\theta$\")\n",
    "ax.set_ylabel(r\"$J$\")\n",
    "\n",
    "# the overdensity at theta=0 as a function of time; ie, delta_n(theta=0, t)\n",
    "delta_n_array = []\n",
    "\n",
    "def init():\n",
    "    quad1.set_array([])\n",
    "    return quad1\n",
    "\n",
    "start = time.time()\n",
    "def updatefig(num):\n",
    "    \n",
    "    t = ts[num]\n",
    "    if ((t % 5) == 0):\n",
    "        print(\"t = \" + str(t))\n",
    "        print(f'Elapsed t: {np.round(time.time() - start, 1)} seconds')\n",
    "        \n",
    "    Z = delta_f_2_echo(thetas, Js, t, t1, t2, n1, n2, A1, A2)\n",
    "    \n",
    "    delta_n = np.sum(Z[:, 0]) # integrate over J\n",
    "    delta_n_array.append(delta_n)\n",
    "    \n",
    "    ## plot delta_f in J vs. theta phase space\n",
    "    #Z = Z[:-1, :-1]\n",
    "    quad1.set_array(Z.ravel())\n",
    "    \n",
    "    ax.set_title('Galactic echo (t=' + str(t) + ')')\n",
    "\n",
    "    return im,\n",
    "\n",
    "\n",
    "ani = animation.FuncAnimation(fig, updatefig, frames=len(ts), interval=100, blit=True)\n",
    "\n",
    "ani.save(\"gal_echo_temp.mp4\")"
   ]
  },
  {
   "cell_type": "code",
   "execution_count": null,
   "id": "772760c0",
   "metadata": {
    "scrolled": false
   },
   "outputs": [],
   "source": [
    "# density at theta=0\n",
    "plt.plot(ts, delta_n_array[2:])\n",
    "plt.title(r'$\\delta n$ at $\\theta = 0$')\n",
    "plt.savefig('gal_echo_delta_n_cartesian.png')\n",
    "plt.show()\n"
   ]
  },
  {
   "cell_type": "code",
   "execution_count": null,
   "id": "2170250a",
   "metadata": {
    "scrolled": true
   },
   "outputs": [],
   "source": [
    "ts[np.argmax(np.abs(delta_n_array))-2]"
   ]
  },
  {
   "cell_type": "markdown",
   "id": "2f1f46af",
   "metadata": {},
   "source": [
    "## echo term in polar coords"
   ]
  },
  {
   "cell_type": "code",
   "execution_count": null,
   "id": "ee4e0dda",
   "metadata": {
    "scrolled": true
   },
   "outputs": [],
   "source": [
    "fig, ax = plt.subplots(1,1,figsize=(12,10))\n",
    "\n",
    "Z = delta_f_2_echo(thetas, Js, 100, t1, t2, n1, n2, A1, A2)\n",
    "# quad mesh\n",
    "quad1 = ax.pcolormesh(x_vals,y_vals,Z, norm=colors.SymLogNorm(linthresh=1e-6, linscale=1e-6,\\\n",
    "                        base=10),\\\n",
    "                       cmap=cm.coolwarm, shading='auto')\n",
    "fig.colorbar(quad1, ax=ax, extend='both')\n",
    "\n",
    "ax.set_xlabel(r\"$\\sqrt{J}$ cos($\\theta$)\")\n",
    "ax.set_ylabel(r\"$\\sqrt{J}$ sin($\\theta$)\")\n",
    "\n",
    "# the overdensity at x=0 as a function of time\n",
    "delta_n_array = []\n",
    "\n",
    "def init():\n",
    "    quad1.set_array([])\n",
    "    return quad1\n",
    "\n",
    "start = time.time()\n",
    "\n",
    "def updatefig(num):\n",
    "    t = ts[num]\n",
    "    if ((t % 5) == 0):\n",
    "        print(\"t = \" + str(t))\n",
    "        print(f'Elapsed t: {np.round(time.time() - start, 1)} seconds')\n",
    "\n",
    "     \n",
    "    Z = delta_f_2_echo(thetas, Js, t, t1, t2, n1, n2, A1, A2)\n",
    "    quad1.set_array(Z.ravel())\n",
    "    \n",
    "    # integrate over Z at x_val=0, ie, at theta = +-pi/2\n",
    "    theta_ind = (int) (num_thetas_sampled / 4) # index of theta = pi/2\n",
    "    \n",
    "    delta_n = np.sum(Z[:, theta_ind]) # integrate over J\n",
    "    delta_n += np.sum(Z[:, num_thetas_sampled-theta_ind]) # theta=-pi/2\n",
    "    delta_n_array.append(delta_n)\n",
    "    \n",
    "    ax.set_title('Galactic echo (t=' + str(t) + ')')\n",
    "    \n",
    "    return quad1,\n",
    "\n",
    "ani = animation.FuncAnimation(fig, updatefig, interval=100, frames=len(ts), blit=True)\n",
    "\n",
    "ani.save(\"gal_echo_polar_temp.mp4\")"
   ]
  },
  {
   "cell_type": "code",
   "execution_count": null,
   "id": "b36db86b",
   "metadata": {
    "scrolled": false
   },
   "outputs": [],
   "source": [
    "# density at x_val=0\n",
    "plt.plot(ts, delta_n_array[2:])\n",
    "plt.title(r'$\\delta n$ at $\\sqrt{J} \\cos(\\theta) = 0$')\n",
    "\n",
    "plt.savefig('gal_echo_delta_n_polar.png')\n",
    "\n",
    "plt.show()\n"
   ]
  },
  {
   "cell_type": "code",
   "execution_count": null,
   "id": "0190c0a3",
   "metadata": {},
   "outputs": [],
   "source": [
    "ts[np.argmax(np.abs(delta_n_array))-2]"
   ]
  },
  {
   "cell_type": "code",
   "execution_count": null,
   "id": "e1506a55",
   "metadata": {},
   "outputs": [],
   "source": []
  }
 ],
 "metadata": {
  "kernelspec": {
   "display_name": "Python 3",
   "language": "python",
   "name": "python3"
  },
  "language_info": {
   "codemirror_mode": {
    "name": "ipython",
    "version": 3
   },
   "file_extension": ".py",
   "mimetype": "text/x-python",
   "name": "python",
   "nbconvert_exporter": "python",
   "pygments_lexer": "ipython3",
   "version": "3.9.5"
  }
 },
 "nbformat": 4,
 "nbformat_minor": 5
}
