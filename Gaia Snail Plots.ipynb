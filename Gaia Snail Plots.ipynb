{
 "cells": [
  {
   "cell_type": "code",
   "execution_count": 1,
   "id": "f19a9179",
   "metadata": {},
   "outputs": [],
   "source": [
    "# import packages\n",
    "import numpy as np\n",
    "\n",
    "import matplotlib.pyplot as plt\n",
    "import matplotlib.animation as animation\n",
    "\n",
    "from matplotlib import cm\n",
    "from matplotlib.ticker import LinearLocator\n",
    "## set default plot size\n",
    "plt.rcParams[\"figure.figsize\"] = (10, 7)\n",
    "## set global font size\n",
    "plt.rcParams.update({'font.size':14})\n",
    "\n",
    "import astropy.units as u\n",
    "from astropy import constants as const"
   ]
  },
  {
   "cell_type": "markdown",
   "id": "255defff",
   "metadata": {},
   "source": [
    "# The Gaia phase-space snail"
   ]
  },
  {
   "cell_type": "markdown",
   "id": "953eb609",
   "metadata": {},
   "source": [
    "Following Tremaine et al. (2023), I animate the 1D vertical oscillations of stars in a disk, modeled by a self-gravitating isothermal slab.\n",
    "\n",
    "Eqs. 4-8 describe the dynamics of the slab, and Eq. 1 describes the time evolution of any density perturbation."
   ]
  },
  {
   "cell_type": "markdown",
   "id": "e1f31d26",
   "metadata": {},
   "source": [
    "# Slab dynamics"
   ]
  },
  {
   "cell_type": "markdown",
   "id": "52d89bbf",
   "metadata": {},
   "source": [
    "Here, I write down Eqs. 4-8 from Tremaine et al. (2023), which includes the dynamics of the slab and the definitions of our angle-action coordinates."
   ]
  },
  {
   "cell_type": "code",
   "execution_count": null,
   "id": "37d6af50",
   "metadata": {},
   "outputs": [],
   "source": []
  }
 ],
 "metadata": {
  "kernelspec": {
   "display_name": "Python 3",
   "language": "python",
   "name": "python3"
  },
  "language_info": {
   "codemirror_mode": {
    "name": "ipython",
    "version": 3
   },
   "file_extension": ".py",
   "mimetype": "text/x-python",
   "name": "python",
   "nbconvert_exporter": "python",
   "pygments_lexer": "ipython3",
   "version": "3.9.5"
  }
 },
 "nbformat": 4,
 "nbformat_minor": 5
}
