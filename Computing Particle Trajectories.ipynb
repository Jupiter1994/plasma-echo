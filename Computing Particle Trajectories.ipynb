{
 "cells": [
  {
   "cell_type": "code",
   "execution_count": 1,
   "id": "16b37946",
   "metadata": {},
   "outputs": [],
   "source": [
    "# import packages\n",
    "import numpy as np\n",
    "# import scipy.integrate as integrate\n",
    "# from sympy import *\n",
    "import time\n",
    "\n",
    "import matplotlib.pyplot as plt\n",
    "import matplotlib.colors as colors\n",
    "import matplotlib.animation as animation\n",
    "\n",
    "from matplotlib import cm\n",
    "from matplotlib.ticker import LinearLocator\n",
    "## set default plot size\n",
    "plt.rcParams[\"figure.figsize\"] = (10, 7)\n",
    "## set global font size\n",
    "plt.rcParams.update({'font.size':14})\n",
    "\n",
    "# import astropy.units as u\n",
    "from astropy import constants as const"
   ]
  },
  {
   "cell_type": "markdown",
   "id": "8c67726d",
   "metadata": {},
   "source": [
    "# Computing Particle Trajectories\n",
    "\n",
    "This notebook focuses on computing and animating the trajectories of individual particles within our two-hammer potential rather than the full solution $\\delta f$. I will do this in two ways:\n",
    "1. By using the analytical solution to Hamilton's equations, assuming two delta-function perturbations.\n",
    "2. By numerically solving Hamilton's equations, which won't necessarily assume delta-function perturbations."
   ]
  },
  {
   "cell_type": "markdown",
   "id": "b32f10b0",
   "metadata": {},
   "source": [
    "# Isothermal Slab Dynamics"
   ]
  },
  {
   "cell_type": "markdown",
   "id": "ac706119",
   "metadata": {},
   "source": [
    "We'll simulate the motions of individual stars within a two-hammer, isothermal slab potential. The Hamiltonian can be written as:\n",
    "\n",
    "$$ \\mathcal{H}(J, \\theta) = \\mathcal{H}_\\text{slab}(J) + \\phi_\\text{hammers}(\\theta) = \\frac{3a}{2b} (1+bJ)^{2/3} + A_1 \\cos(n_1 \\theta) \\delta(t-t_1) + A_2 \\cos(n_2 \\theta) \\delta(t-t_2). $$"
   ]
  },
  {
   "cell_type": "code",
   "execution_count": 17,
   "id": "68619fc7",
   "metadata": {
    "scrolled": true
   },
   "outputs": [
    {
     "name": "stdout",
     "output_type": "stream",
     "text": [
      "14.85\n"
     ]
    }
   ],
   "source": [
    "start = time.time()\n",
    "\n",
    "temp = 0\n",
    "for i in range((int) (1e8)):\n",
    "    temp = i\n",
    "    temp = i + 1\n",
    "    \n",
    "print('{:2.2f}'.format(time.time()-start))"
   ]
  },
  {
   "cell_type": "code",
   "execution_count": null,
   "id": "f31097ac",
   "metadata": {},
   "outputs": [],
   "source": []
  }
 ],
 "metadata": {
  "kernelspec": {
   "display_name": "Python 3",
   "language": "python",
   "name": "python3"
  },
  "language_info": {
   "codemirror_mode": {
    "name": "ipython",
    "version": 3
   },
   "file_extension": ".py",
   "mimetype": "text/x-python",
   "name": "python",
   "nbconvert_exporter": "python",
   "pygments_lexer": "ipython3",
   "version": "3.9.5"
  }
 },
 "nbformat": 4,
 "nbformat_minor": 5
}
