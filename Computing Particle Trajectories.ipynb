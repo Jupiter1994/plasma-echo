{
 "cells": [
  {
   "cell_type": "code",
   "execution_count": 1,
   "id": "0c761971",
   "metadata": {},
   "outputs": [],
   "source": [
    "# import packages\n",
    "import numpy as np\n",
    "# import scipy.integrate as integrate\n",
    "# from sympy import *\n",
    "import time\n",
    "\n",
    "import matplotlib.pyplot as plt\n",
    "import matplotlib.colors as colors\n",
    "import matplotlib.animation as animation\n",
    "\n",
    "from matplotlib import cm\n",
    "from matplotlib.ticker import LinearLocator\n",
    "## set default plot size\n",
    "plt.rcParams[\"figure.figsize\"] = (10, 7)\n",
    "## set global font size\n",
    "plt.rcParams.update({'font.size':14})\n",
    "\n",
    "# import astropy.units as u\n",
    "from astropy import constants as const\n",
    "\n",
    "from scipy.interpolate import interp1d\n"
   ]
  },
  {
   "cell_type": "markdown",
   "id": "253b5882",
   "metadata": {},
   "source": [
    "# Computing Particle Trajectories\n",
    "\n",
    "This notebook focuses on computing and animating the trajectories of individual particles within our two-hammer potential rather than the full solution $\\delta f$. I will do this in two ways:\n",
    "1. By using the analytical solution to Hamilton's equations, assuming two delta-function perturbations.\n",
    "2. By numerically solving Hamilton's equations, which won't necessarily assume delta-function perturbations."
   ]
  },
  {
   "cell_type": "markdown",
   "id": "ad3a18a3",
   "metadata": {},
   "source": [
    "# Isothermal Slab Dynamics"
   ]
  },
  {
   "cell_type": "markdown",
   "id": "0659a105",
   "metadata": {},
   "source": [
    "First, we'll directly plot the motions of individual stars within a two-hammer, isothermal slab potential. The analytical (dimensionless) solutions to Hamilton's equations are:\n",
    "\n",
    "$$ \\theta(\\tilde{t}) = \\theta_0 + \\int_0^{\\tilde{t}} d\\tilde{t}' \\Omega(\\tilde{J}(\\tilde{t}')) $$\n",
    "   $$ \\tilde{J}(\\tilde{t}) = \\tilde{J}_0 + n_1 \\tilde{A}_1 \\sin(n_1\\theta(\\tilde{t}_1)) H(\\tilde{t}-\\tilde{t}_1) + n_2 \\tilde{A}_2 \\sin(n_2 \\theta(\\tilde{t}_2)) H(\\tilde{t}-\\tilde{t}_2) $$\n",
    "   \n",
    "where $\\tilde{\\Omega}$ is:\n",
    "\n",
    "$$ \\tilde{\\Omega}(\\tilde{J}) = \\frac{1}{\\sqrt{2}} \\left[1+\\frac{3\\sqrt{2}}{\\pi^2}\\tilde{J}\\right]^{-1/3}. $$"
   ]
  },
  {
   "cell_type": "markdown",
   "id": "75c140e4",
   "metadata": {},
   "source": [
    "## Drawing from an arbitrary random distribution"
   ]
  },
  {
   "cell_type": "markdown",
   "id": "e670c45a",
   "metadata": {},
   "source": [
    "Source: https://stackoverflow.com/a/64288861"
   ]
  },
  {
   "cell_type": "code",
   "execution_count": 2,
   "id": "11427519",
   "metadata": {
    "code_folding": []
   },
   "outputs": [],
   "source": [
    "def inverse_sample_decorator(dist):\n",
    "    \n",
    "    # for now, set our maximum J to 40\n",
    "    def wrapper(pnts, x_min=0, x_max=40, n=1e5, **kwargs):\n",
    "        \n",
    "        x = np.linspace(x_min, x_max, int(n))\n",
    "        cumulative = np.cumsum(dist(x, **kwargs))\n",
    "        cumulative -= cumulative.min()\n",
    "        f = interp1d(cumulative/cumulative.max(), x)\n",
    "        return f(np.random.random(pnts))\n",
    "    \n",
    "    return wrapper\n",
    "\n",
    "# example distribution\n",
    "# @inverse_sample_decorator\n",
    "# def gauss(x, amp=1.0, mean=0.0, std=0.2):\n",
    "#     return amp*np.exp(-(x-mean)**2/std**2/2.0)"
   ]
  },
  {
   "cell_type": "code",
   "execution_count": 3,
   "id": "f436fdb8",
   "metadata": {
    "code_folding": [
     2,
     13,
     30,
     40
    ]
   },
   "outputs": [],
   "source": [
    "## define the slab Omega, Hamiltonian, and f0(J)\n",
    "\n",
    "def compute_Omega(J):\n",
    "    '''\n",
    "    Represents (dimensionless) Omega(J). We use Omega = a/(1 + b*J)^(1/3)\n",
    "    \n",
    "    '''\n",
    "    \n",
    "    a = 1. / np.sqrt(2)\n",
    "    b = 3 * np.sqrt(2) / pow(np.pi,2)\n",
    "\n",
    "    return a * pow(1 + b*J, -1/3)\n",
    "\n",
    "def Hamiltonian(J):\n",
    "    '''\n",
    "    Computes the Hamiltonian of our system by integrating Omega(J)\n",
    "    from 0 to J. (Underneath Eq. 8 in Scott's paper, it's stated that\n",
    "    Omega = dH/dJ.) We assume that Omega=0 for H=0.\n",
    "    \n",
    "    We use Omega = a/(1 + b*J)^(1/3) and its analytical antiderivative.\n",
    "    \n",
    "    '''\n",
    "    \n",
    "    term1 = np.pi**2 / 4\n",
    "    b = 3*np.sqrt(2) / (np.pi**2)\n",
    "    \n",
    "    term2 = (1 + b*J)**(2/3)\n",
    "    return term1 * term2\n",
    "\n",
    "\n",
    "def f_0(J): \n",
    "    '''\n",
    "    Initial distribution function of our system, using Eq. 6 of Scott's\n",
    "    paper.\n",
    "    \n",
    "    '''\n",
    "    \n",
    "    return np.exp(-1*Hamiltonian(J)) / np.sqrt(2 * np.pi)\n",
    "\n",
    "@inverse_sample_decorator\n",
    "def f_0_distro(J): \n",
    "    '''\n",
    "    The version of f_0(J) we use to perform inverse transform sampling.\n",
    "    \n",
    "    '''\n",
    "    \n",
    "    return np.exp(-1*Hamiltonian(J)) / np.sqrt(2 * np.pi)"
   ]
  },
  {
   "cell_type": "markdown",
   "id": "15cc6e49",
   "metadata": {},
   "source": [
    "## Outline\n",
    "\n",
    "Let N be the number of particles I'm simulating. (I should test N=1, 10, 100, ...). Our plan is:\n",
    "\n",
    "1. Keep two N-length arrays, one representing the $\\theta$'s of all the particles and one representing all the $J$'s at a certain timepoint $t_i$.\n",
    "2. Keep an array with timepoints, e.g., `ts = np.arange(0, 300, 0.5)`.\n",
    "3. Set the initial conditions. Each $J_0$ should be in $(0, 20)$, while each $\\theta_0$ should be in $[0, 2\\pi)$.\n",
    "4. Update $\\theta$ at every timestep. Update $J$ and $\\Omega(J)$ iff there's a hammer."
   ]
  },
  {
   "cell_type": "code",
   "execution_count": 15,
   "id": "b63ab3e4",
   "metadata": {},
   "outputs": [],
   "source": [
    "## define hammer params, phase space range\n",
    "\n",
    "# define the parameters of the two hammers (t_i, n_i, A_i)\n",
    "t1, t2 = 0, 100\n",
    "n1, n2 = 1, 3\n",
    "A1, A2 = 0.1, 0.2\n",
    "\n",
    "# define ts, thetas, and Js; and, corresponding Cartesian coords\n",
    "N = (int) (1e5) # number of particles\n",
    "\n",
    "# time range\n",
    "tmin = 0\n",
    "tmax = 200\n",
    "tstep = 0.5\n",
    "ts = np.arange(tmin, tmax+tstep, tstep)\n",
    "\n",
    "# Monte Carlo sample our initial conditions\n",
    "np.random.seed(2)\n",
    "thetas = (2*np.pi) *np.random.rand(N)\n",
    "Js = f_0_distro(N) # drawn from f_0(J)\n",
    "\n",
    "# initial Omega values\n",
    "Omegas = compute_Omega(Js)"
   ]
  },
  {
   "cell_type": "code",
   "execution_count": 12,
   "id": "73569669",
   "metadata": {
    "code_folding": [
     0
    ],
    "scrolled": true
   },
   "outputs": [],
   "source": [
    "# ## check that sampling method is consistent with underlying distro\n",
    "\n",
    "# Js_temp = np.arange(0, 20, 1e-2)\n",
    "\n",
    "# # sampled J's\n",
    "# num_bins = 20\n",
    "# bins = np.linspace(0, np.max(Js), num=num_bins)\n",
    "# hist = plt.hist(Js, bins=bins, label=\"sampled data\", density=True)\n",
    "\n",
    "# ## distribution function\n",
    "# J_axis = (hist[1][:-1] + hist[1][1:]) / 2 # midpoints of histogram bins\n",
    "# f0_temp = f_0(J_axis)\n",
    "\n",
    "# plt.plot(J_axis, f0_temp / .056, label=\"$f_0(J)$\")\n",
    "\n",
    "# plt.title(\"Comparison of sampled J's to f_0(J)\")\n",
    "# plt.legend()\n",
    "# plt.show()"
   ]
  },
  {
   "cell_type": "markdown",
   "id": "9926d414",
   "metadata": {},
   "source": [
    "## convert from $(\\theta, J)$ to $(z,v_z)$"
   ]
  },
  {
   "cell_type": "code",
   "execution_count": 5,
   "id": "5080d202",
   "metadata": {
    "code_folding": [
     2
    ]
   },
   "outputs": [],
   "source": [
    "## basic function for converting (thetas, Js) to (x_vals, y_vals)\n",
    "\n",
    "def pol2cart(thetas, Js):\n",
    "    '''\n",
    "    Given a set of angles and actions (thetas, Js), return the \n",
    "    corresponding Cartesian coordinates.\n",
    "    \n",
    "    '''\n",
    "    \n",
    "    xs = np.sqrt(Js) * np.cos(thetas)\n",
    "    ys = np.sqrt(Js) * np.sin(thetas)\n",
    "    \n",
    "    return xs, ys"
   ]
  },
  {
   "cell_type": "markdown",
   "id": "7da9f61b",
   "metadata": {},
   "source": [
    "# Animation"
   ]
  },
  {
   "cell_type": "code",
   "execution_count": null,
   "id": "de123502",
   "metadata": {
    "scrolled": true
   },
   "outputs": [],
   "source": [
    "# make the animation\n",
    "fig = plt.figure(figsize=(10,10))\n",
    "zs, vzs = pol2cart(thetas, Js)\n",
    "scat = plt.scatter(zs, vzs, alpha=0.02)\n",
    "\n",
    "xlimit = 4.5\n",
    "plt.xlim(-xlimit, xlimit)\n",
    "plt.ylim(-xlimit, xlimit)\n",
    "\n",
    "plt.xlabel(r\"$\\sqrt{J}$ cos($\\theta$)\")\n",
    "plt.ylabel(r\"$\\sqrt{J}$ sin($\\theta$)\")\n",
    "\n",
    "# the \"density\" at z=0 (in practice, the number of points near z=0) as a function of time\n",
    "delta_n_array = []\n",
    "\n",
    "start = time.time()\n",
    "\n",
    "z_tolerance = 1e-2\n",
    "\n",
    "# simulating pointers with a dictionary... not ideal but we'll see if it works\n",
    "# source: https://realpython.com/pointers-in-python/#using-python-objects\n",
    "variables = {\"hammer1_has_hit\": False, \"hammer2_has_hit\": False, \\\n",
    "             \"thetas\": thetas, \"Js\": Js, \"Omegas\": Omegas}\n",
    "\n",
    "def updatefig(i):\n",
    "    t = ts[i]\n",
    "    \n",
    "    if ((t % 10) == 0):\n",
    "        print(\"t = \" + str(t))\n",
    "        print(f'Elapsed t: {np.round(time.time() - start, 1)} seconds')\n",
    "\n",
    "    # update Js, Omegas iff there's a hammer\n",
    "    if (~variables[\"hammer1_has_hit\"] and t >= t1):\n",
    "        variables[\"Js\"] += n1 * A1 * np.sin(n1 * variables[\"thetas\"])\n",
    "        variables[\"Omegas\"] = compute_Omega(variables[\"Js\"])\n",
    "        variables[\"hammer1_has_hit\"] = True\n",
    "    if (~variables[\"hammer2_has_hit\"] and t >= t2):\n",
    "        variables[\"Js\"] += n2 * A2 * np.sin(n2 * variables[\"thetas\"])\n",
    "        variables[\"Omegas\"] = compute_Omega(variables[\"Js\"])\n",
    "        variables[\"hammer2_has_hit\"] = True\n",
    "        \n",
    "    # update thetas\n",
    "    variables[\"thetas\"] += np.mod(Omegas * tstep, 2*np.pi)  \n",
    "    \n",
    "    ## move negative-J particles to J~0 orbits\n",
    "    move_negative_J_particles = True\n",
    "    if move_negative_J_particles:\n",
    "        J_is_negative = (variables[\"Js\"] < 0)\n",
    "        variables[\"Js\"][J_is_negative] = 1e-4\n",
    "    \n",
    "    ## convert coordinates to (z, v_z)\n",
    "    zs, vzs = pol2cart(variables[\"thetas\"], variables[\"Js\"])\n",
    "    \n",
    "    ## compute \"delta n\"\n",
    "    z_max = max(np.abs(zs))\n",
    "    # \"mean density\"; ie, N divided by # of z bins with width 2*z_tolerance\n",
    "    n_mean = N / (z_max/z_tolerance) \n",
    "    \n",
    "    delta_n = np.sum(np.abs(zs) < z_tolerance) - n_mean\n",
    "    delta_n_array.append(delta_n)\n",
    "    \n",
    "    # make plot\n",
    "    data = np.transpose((zs, vzs))\n",
    "    scat.set_offsets(data)\n",
    "    plt.title('Particle trajectories (t=' + str(t) + ')')\n",
    "    return scat,\n",
    "\n",
    "\n",
    "make_animation = True\n",
    "if make_animation:\n",
    "    ani = animation.FuncAnimation(fig, updatefig, interval=100, frames=len(ts), \\\n",
    "            blit=True)\n",
    "    ani.save(\"Sampled_trajectories_temp.mp4\")"
   ]
  },
  {
   "cell_type": "markdown",
   "id": "9f2ae2b9",
   "metadata": {},
   "source": [
    "Source on animating a scatter plot: https://stackoverflow.com/questions/9401658/how-to-animate-a-scatter-plot"
   ]
  },
  {
   "cell_type": "code",
   "execution_count": 11,
   "id": "980f693f",
   "metadata": {
    "scrolled": true
   },
   "outputs": [
    {
     "name": "stdout",
     "output_type": "stream",
     "text": [
      "t = 0.0\n",
      "Elapsed t: 0.0 seconds\n",
      "t = 10.0\n",
      "Elapsed t: 0.4 seconds\n",
      "t = 20.0\n",
      "Elapsed t: 0.9 seconds\n",
      "t = 30.0\n",
      "Elapsed t: 1.3 seconds\n",
      "t = 40.0\n",
      "Elapsed t: 1.7 seconds\n",
      "t = 50.0\n",
      "Elapsed t: 2.1 seconds\n",
      "t = 60.0\n",
      "Elapsed t: 2.5 seconds\n",
      "t = 70.0\n",
      "Elapsed t: 3.0 seconds\n",
      "t = 80.0\n",
      "Elapsed t: 3.3 seconds\n",
      "t = 90.0\n",
      "Elapsed t: 3.7 seconds\n",
      "t = 100.0\n",
      "Elapsed t: 4.1 seconds\n",
      "t = 110.0\n",
      "Elapsed t: 4.7 seconds\n",
      "t = 120.0\n",
      "Elapsed t: 5.2 seconds\n",
      "t = 130.0\n",
      "Elapsed t: 5.7 seconds\n",
      "t = 140.0\n",
      "Elapsed t: 6.2 seconds\n",
      "t = 150.0\n",
      "Elapsed t: 6.7 seconds\n",
      "t = 160.0\n",
      "Elapsed t: 7.2 seconds\n",
      "t = 170.0\n",
      "Elapsed t: 7.7 seconds\n",
      "t = 180.0\n",
      "Elapsed t: 8.2 seconds\n",
      "t = 190.0\n",
      "Elapsed t: 8.7 seconds\n",
      "t = 200.0\n",
      "Elapsed t: 9.2 seconds\n",
      "t = 210.0\n",
      "Elapsed t: 9.7 seconds\n",
      "t = 220.0\n",
      "Elapsed t: 10.1 seconds\n",
      "t = 230.0\n",
      "Elapsed t: 10.6 seconds\n",
      "t = 240.0\n",
      "Elapsed t: 11.1 seconds\n",
      "t = 250.0\n",
      "Elapsed t: 11.6 seconds\n",
      "t = 260.0\n",
      "Elapsed t: 12.0 seconds\n",
      "t = 270.0\n",
      "Elapsed t: 12.5 seconds\n",
      "t = 280.0\n",
      "Elapsed t: 13.0 seconds\n",
      "t = 290.0\n",
      "Elapsed t: 13.4 seconds\n",
      "t = 300.0\n",
      "Elapsed t: 13.9 seconds\n"
     ]
    },
    {
     "data": {
      "image/png": "[encoded data removed]",
      "text/plain": [
       "<Figure size 720x504 with 1 Axes>"
      ]
     },
     "metadata": {
      "needs_background": "light"
     },
     "output_type": "display_data"
    }
   ],
   "source": [
    "# calculate delta_n_array, avoiding the animation\n",
    "start = time.time()\n",
    "delta_n_array = []\n",
    "\n",
    "for i in range(len(ts)):\n",
    "    updatefig(i)"
   ]
  },
  {
   "cell_type": "code",
   "execution_count": 12,
   "id": "59bd0d33",
   "metadata": {
    "scrolled": false
   },
   "outputs": [
    {
     "data": {
      "image/png": "[encoded data removed]",
      "text/plain": [
       "<Figure size 720x504 with 1 Axes>"
      ]
     },
     "metadata": {
      "needs_background": "light"
     },
     "output_type": "display_data"
    }
   ],
   "source": [
    "plt.plot(ts, delta_n_array)\n",
    "\n",
    "plt.xlabel('t')\n",
    "plt.title(f'$\\delta n$ for |z| < {z_tolerance}')\n",
    "\n",
    "plt.savefig('particle_trajs_delta_n_temp.png')\n",
    "plt.show()"
   ]
  },
  {
   "cell_type": "code",
   "execution_count": null,
   "id": "54736d90",
   "metadata": {},
   "outputs": [],
   "source": []
  }
 ],
 "metadata": {
  "kernelspec": {
   "display_name": "Python 3",
   "language": "python",
   "name": "python3"
  },
  "language_info": {
   "codemirror_mode": {
    "name": "ipython",
    "version": 3
   },
   "file_extension": ".py",
   "mimetype": "text/x-python",
   "name": "python",
   "nbconvert_exporter": "python",
   "pygments_lexer": "ipython3",
   "version": "3.9.5"
  }
 },
 "nbformat": 4,
 "nbformat_minor": 5
}
