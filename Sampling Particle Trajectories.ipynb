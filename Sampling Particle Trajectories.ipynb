{
 "cells": [
  {
   "cell_type": "code",
   "execution_count": 1,
   "id": "0c761971",
   "metadata": {},
   "outputs": [],
   "source": [
    "# import packages\n",
    "import numpy as np\n",
    "# import scipy.integrate as integrate\n",
    "# from sympy import *\n",
    "import time\n",
    "import pickle\n",
    "\n",
    "import matplotlib.pyplot as plt\n",
    "import matplotlib.colors as colors\n",
    "import matplotlib.animation as animation\n",
    "\n",
    "from matplotlib import cm\n",
    "from matplotlib.ticker import LinearLocator\n",
    "## set default plot size\n",
    "plt.rcParams[\"figure.figsize\"] = (10, 7)\n",
    "## set global font size\n",
    "plt.rcParams.update({'font.size':14})\n",
    "\n",
    "# import astropy.units as u\n",
    "from astropy import constants as const\n",
    "\n",
    "from scipy.interpolate import interp1d\n"
   ]
  },
  {
   "cell_type": "markdown",
   "id": "253b5882",
   "metadata": {},
   "source": [
    "# Sampling Particle Trajectories\n",
    "\n",
    "This notebook focuses on computing and animating the trajectories of individual particles within our two-hammer potential rather than the full solution $\\delta f$. I will do this by using the analytical solution to Hamilton's equations, assuming two delta-function perturbations. (In `Leapfrogging Particle Trajectories.ipynb`, I will instead numerically solve Hamilton's equations, which won't necessarily assume delta-function perturbations.)"
   ]
  },
  {
   "cell_type": "markdown",
   "id": "ad3a18a3",
   "metadata": {},
   "source": [
    "# Isothermal Slab Dynamics"
   ]
  },
  {
   "cell_type": "markdown",
   "id": "0659a105",
   "metadata": {},
   "source": [
    "First, we'll directly plot the motions of individual stars within a two-hammer, isothermal slab potential. The analytical (dimensionless) solutions to Hamilton's equations are:\n",
    "\n",
    "$$ \\theta(\\tilde{t}) = \\theta_0 + \\int_0^{\\tilde{t}} d\\tilde{t}' \\Omega(\\tilde{J}(\\tilde{t}')) $$\n",
    "   $$ \\tilde{J}(\\tilde{t}) = \\tilde{J}_0 + n_1 \\tilde{A}_1 \\sin(n_1\\theta(\\tilde{t}_1)) H(\\tilde{t}-\\tilde{t}_1) + n_2 \\tilde{A}_2 \\sin(n_2 \\theta(\\tilde{t}_2)) H(\\tilde{t}-\\tilde{t}_2) $$\n",
    "   \n",
    "where $\\tilde{\\Omega}$ is:\n",
    "\n",
    "$$ \\tilde{\\Omega}(\\tilde{J}) = \\frac{1}{\\sqrt{2}} \\left[1+\\frac{3\\sqrt{2}}{\\pi^2}\\tilde{J}\\right]^{-1/3}. $$"
   ]
  },
  {
   "cell_type": "markdown",
   "id": "75c140e4",
   "metadata": {},
   "source": [
    "## Drawing from an arbitrary random distribution"
   ]
  },
  {
   "cell_type": "markdown",
   "id": "e670c45a",
   "metadata": {},
   "source": [
    "Source: https://stackoverflow.com/a/64288861"
   ]
  },
  {
   "cell_type": "code",
   "execution_count": 2,
   "id": "11427519",
   "metadata": {
    "code_folding": []
   },
   "outputs": [],
   "source": [
    "def inverse_sample_decorator(dist):\n",
    "    \n",
    "    # for now, set our maximum J to 40\n",
    "    def wrapper(pnts, x_min=0, x_max=40, n=1e5, **kwargs):\n",
    "        \n",
    "        x = np.linspace(x_min, x_max, int(n))\n",
    "        cumulative = np.cumsum(dist(x, **kwargs))\n",
    "        cumulative -= cumulative.min()\n",
    "        f = interp1d(cumulative/cumulative.max(), x)\n",
    "        return f(np.random.random(pnts))\n",
    "    \n",
    "    return wrapper\n",
    "\n",
    "# example distribution\n",
    "# @inverse_sample_decorator\n",
    "# def gauss(x, amp=1.0, mean=0.0, std=0.2):\n",
    "#     return amp*np.exp(-(x-mean)**2/std**2/2.0)"
   ]
  },
  {
   "cell_type": "code",
   "execution_count": 3,
   "id": "f436fdb8",
   "metadata": {
    "code_folding": [
     2,
     13,
     30
    ]
   },
   "outputs": [],
   "source": [
    "## define the slab Omega, Hamiltonian, and f0(J)\n",
    "\n",
    "def compute_Omega(J):\n",
    "    '''\n",
    "    Represents (dimensionless) Omega(J). We use Omega = a/(1 + b*J)^(1/3)\n",
    "    \n",
    "    '''\n",
    "    \n",
    "    a = 1. / np.sqrt(2)\n",
    "    b = 3 * np.sqrt(2) / pow(np.pi,2)\n",
    "\n",
    "    return a * pow(1 + b*J, -1/3)\n",
    "\n",
    "def Hamiltonian(J):\n",
    "    '''\n",
    "    Computes the Hamiltonian of our system by integrating Omega(J)\n",
    "    from 0 to J. (Underneath Eq. 8 in Scott's paper, it's stated that\n",
    "    Omega = dH/dJ.) We assume that Omega=0 for H=0.\n",
    "    \n",
    "    We use Omega = a/(1 + b*J)^(1/3) and its analytical antiderivative.\n",
    "    \n",
    "    '''\n",
    "    \n",
    "    term1 = np.pi**2 / 4\n",
    "    b = 3*np.sqrt(2) / (np.pi**2)\n",
    "    \n",
    "    term2 = (1 + b*J)**(2/3)\n",
    "    return term1 * term2\n",
    "\n",
    "\n",
    "def f_0(J): \n",
    "    '''\n",
    "    Initial distribution function of our system, using Eq. 6 of Scott's\n",
    "    paper.\n",
    "    \n",
    "    '''\n",
    "    \n",
    "    return np.exp(-1*Hamiltonian(J)) / np.sqrt(2 * np.pi)\n",
    "\n",
    "@inverse_sample_decorator\n",
    "def f_0_distro(J): \n",
    "    '''\n",
    "    The version of f_0(J) we use to perform inverse transform sampling.\n",
    "    \n",
    "    '''\n",
    "    \n",
    "    return np.exp(-1*Hamiltonian(J)) / np.sqrt(2 * np.pi)"
   ]
  },
  {
   "cell_type": "code",
   "execution_count": null,
   "id": "6ccf5cbe",
   "metadata": {
    "scrolled": true
   },
   "outputs": [],
   "source": [
    "# np.random.seed(2)\n",
    "\n",
    "# # generate a list of 100 random J values\n",
    "# N = 10000\n",
    "# num_iterations = 10\n",
    "# Js_temp = np.zeros((N))\n",
    "# for i in range(num_iterations):\n",
    "#     Js_temp += np.sort(f_0_distro(N))\n",
    "\n",
    "# Js_temp = Js_temp / num_iterations\n",
    "# print(Js_temp[-10:])"
   ]
  },
  {
   "cell_type": "markdown",
   "id": "15cc6e49",
   "metadata": {},
   "source": [
    "## Outline\n",
    "\n",
    "Let N be the number of particles I'm simulating. (I should test N=1, 10, 100, ...). Our plan is:\n",
    "\n",
    "1. Keep two N-length arrays, one representing the $\\theta$'s of all the particles and one representing all the $J$'s at a certain timepoint $t_i$.\n",
    "2. Keep an array with timepoints, e.g., `ts = np.arange(0, 300, 0.5)`.\n",
    "3. Set the initial conditions. Each $J_0$ should be in $(0, 20)$, while each $\\theta_0$ should be in $[0, 2\\pi)$.\n",
    "4. Update $\\theta$ at every timestep. Update $J$ and $\\Omega(J)$ iff there's a hammer."
   ]
  },
  {
   "cell_type": "markdown",
   "id": "e9412915",
   "metadata": {},
   "source": [
    "## convert from $(\\theta, J)$ to $(z,v_z)$"
   ]
  },
  {
   "cell_type": "code",
   "execution_count": 4,
   "id": "4c5a40d3",
   "metadata": {
    "code_folding": [
     2
    ]
   },
   "outputs": [],
   "source": [
    "## functions for converting (thetas, Js) to (zs, vzs)\n",
    "\n",
    "def pol2cart_harmonic(thetas, Js):\n",
    "    '''\n",
    "    Given a set of angles and actions (thetas, Js), return the \n",
    "    corresponding Cartesian coordinates assuming a harmonic potential.\n",
    "    \n",
    "    '''\n",
    "    \n",
    "    zs = np.sqrt(Js) * np.sin(thetas)\n",
    "    vzs = np.sqrt(Js) * np.cos(thetas)\n",
    "    \n",
    "    return zs, vzs\n",
    "\n",
    "## load in interpolated converter functions\n",
    "# AA -> CC\n",
    "with open('z(theta,J)_interp.pkl', 'rb') as file:\n",
    "    convert_AA_to_z = pickle.load(file)\n",
    "with open('v_z(theta,J)_interp.pkl', 'rb') as file:\n",
    "    convert_AA_to_vz = pickle.load(file)\n",
    "# CC -> AA\n",
    "with open('theta(z,v_z)_interp.pkl', 'rb') as file:\n",
    "    convert_CC_to_theta = pickle.load(file)\n",
    "with open('J(z,v_z)_interp.pkl', 'rb') as file:\n",
    "    convert_CC_to_J = pickle.load(file)\n",
    "\n",
    "def pol2cart_exact(thetas, Js):\n",
    "    '''\n",
    "    Given a set of angles and actions (thetas, Js), return the \n",
    "    exact (zs, v_zs) coordinates.\n",
    "    \n",
    "    '''\n",
    "    \n",
    "    zs = convert_AA_to_z(thetas, Js)\n",
    "    v_zs = convert_AA_to_vz(thetas, Js)\n",
    "    \n",
    "    return zs, v_zs"
   ]
  },
  {
   "cell_type": "code",
   "execution_count": 6,
   "id": "b63ab3e4",
   "metadata": {
    "code_folding": []
   },
   "outputs": [
    {
     "name": "stdout",
     "output_type": "stream",
     "text": [
      "maximum z of problematic gap:\n",
      "2.0867707292023105\n"
     ]
    }
   ],
   "source": [
    "## define hammer params, phase space range\n",
    "\n",
    "# define the parameters of the two hammers (t_i, n_i, A_i)\n",
    "t1, t2 = 0, 100\n",
    "n1, n2 = 1, 3\n",
    "A1, A2 = 0.1, 0.2\n",
    "\n",
    "# define ts, thetas, and Js; and, corresponding Cartesian coords\n",
    "N = (int) (1e5) # number of particles\n",
    "\n",
    "# time range\n",
    "tmin = 0\n",
    "tmax = 200\n",
    "tstep = 0.5\n",
    "ts = np.arange(tmin, tmax+tstep, tstep)\n",
    "\n",
    "# Monte Carlo sample our initial conditions\n",
    "np.random.seed(2)\n",
    "thetas = (2*np.pi) *np.random.rand(N)\n",
    "Js = f_0_distro(N) # drawn from f_0(J)\n",
    "\n",
    "# initial Omega values\n",
    "Omegas = compute_Omega(Js)\n",
    "\n",
    "# initial z, v_z values\n",
    "use_exact_conversion = True\n",
    "\n",
    "if use_exact_conversion:\n",
    "    zs, vzs = pol2cart_exact(thetas, Js)  \n",
    "else:\n",
    "    zs, vzs = pol2cart_harmonic(thetas, Js)  \n",
    "\n",
    "Delta_J_max = 2*n1*A1 + 2*n2*A2\n",
    "print('maximum z of problematic gap:')\n",
    "print(np.abs(np.max(convert_AA_to_z(thetas, Delta_J_max))))"
   ]
  },
  {
   "cell_type": "code",
   "execution_count": null,
   "id": "73569669",
   "metadata": {
    "code_folding": [
     0
    ],
    "scrolled": true
   },
   "outputs": [],
   "source": [
    "# ## check that sampling method is consistent with underlying distro\n",
    "\n",
    "# Js_temp = np.arange(0, 20, 1e-2)\n",
    "\n",
    "# # sampled J's\n",
    "# num_bins = 20\n",
    "# bins = np.linspace(0, np.max(Js), num=num_bins)\n",
    "# hist = plt.hist(Js, bins=bins, label=\"sampled data\", density=True)\n",
    "\n",
    "# ## distribution function\n",
    "# J_axis = (hist[1][:-1] + hist[1][1:]) / 2 # midpoints of histogram bins\n",
    "# f0_temp = f_0(J_axis)\n",
    "\n",
    "# plt.plot(J_axis, f0_temp / .056, label=\"$f_0(J)$\")\n",
    "\n",
    "# plt.title(\"Comparison of sampled J's to f_0(J)\")\n",
    "# plt.legend()\n",
    "# plt.show()"
   ]
  },
  {
   "cell_type": "markdown",
   "id": "1ec49832",
   "metadata": {},
   "source": [
    "# Plot $f$ right before hammer 1 $(t=0^-)$"
   ]
  },
  {
   "cell_type": "code",
   "execution_count": null,
   "id": "5118f422",
   "metadata": {
    "scrolled": true
   },
   "outputs": [],
   "source": [
    "# ~97% of the particles exist at J<7 orbits\n",
    "np.sum(Js < 7) / N"
   ]
  },
  {
   "cell_type": "markdown",
   "id": "c6c8a128",
   "metadata": {},
   "source": [
    "To calculate $\\delta n / n_0$ at a certain position ($z=z'$), we'll define the quantity $n(t)$ as the spatial density at that point. Here, we approximate $n(t)$ as the number of particles in a certain z bin divided by the width of the bin. By definition, $n(0) = n_0$, i.e., the background or equilibrium value.\n",
    "\n",
    "Therefore:\n",
    "\n",
    "$$\\frac{\\delta n}{n_0} \\Big|_{z=z'} = \\frac{n(t) - n(0^-)}{n(0)}\\Big|_{z=z'}.$$"
   ]
  },
  {
   "cell_type": "code",
   "execution_count": null,
   "id": "32843f26",
   "metadata": {
    "code_folding": [
     0
    ],
    "scrolled": true
   },
   "outputs": [],
   "source": [
    "# calculate n_0 and plot initial condition\n",
    "plt.rcParams.update({'font.size':30})\n",
    "\n",
    "z_tolerance = 5e-2\n",
    "plot_initial_distro = True\n",
    "\n",
    "fig = plt.figure(figsize=(10,10))\n",
    "\n",
    "# number of particles at t=0 within z_tolerance at a z coordinate; this is the\n",
    "# \"background\" distribution\n",
    "z_offset = 0.\n",
    "n_0 = np.sum(np.abs(zs - z_offset) < z_tolerance) \n",
    "print(f'n_0 = {n_0}')\n",
    "# n_0 /= len(zs) # normalize by # of particles\n",
    "\n",
    "if plot_initial_distro:\n",
    "    xlimit = 12\n",
    "    ylimit = 5\n",
    "    plt.xlim(-xlimit, xlimit)\n",
    "    plt.ylim(-ylimit, ylimit)\n",
    "\n",
    "    scat = plt.scatter(zs, vzs, s=1, alpha=0.1) # particles don't appear at alpha~0.001\n",
    "    \n",
    "    plt.xlabel(r\"$z = \\sqrt{J}$ cos($\\theta$)\")\n",
    "    plt.ylabel(r\"$v_z = \\sqrt{J}$ sin($\\theta$)\")\n",
    "\n",
    "    plt.title('Particles right before hammer 1')\n",
    "\n",
    "    plt.show()"
   ]
  },
  {
   "cell_type": "markdown",
   "id": "7da9f61b",
   "metadata": {},
   "source": [
    "# Animation"
   ]
  },
  {
   "cell_type": "code",
   "execution_count": null,
   "id": "02ede217",
   "metadata": {},
   "outputs": [],
   "source": [
    "# upper bound on void radius\n",
    "thetas_temp = np.linspace(0, 2*np.pi, 1000)\n",
    "np.max(np.abs(convert_AA_to_z(thetas_temp, 2*n1*A1 + 2*n2*A2)))"
   ]
  },
  {
   "cell_type": "code",
   "execution_count": null,
   "id": "de123502",
   "metadata": {
    "code_folding": [],
    "scrolled": true
   },
   "outputs": [],
   "source": [
    "# make the animation\n",
    "plt.rcParams.update({'font.size':30})\n",
    "\n",
    "fig = plt.figure(figsize=(10,10))\n",
    "scat = plt.scatter(zs, vzs, s=1, alpha=0.1)\n",
    "\n",
    "xlimit = 12\n",
    "ylimit = 5\n",
    "plt.xlim(-xlimit, xlimit)\n",
    "plt.ylim(-ylimit, ylimit)\n",
    "\n",
    "# plt.xlabel(r\"$z = \\sqrt{J}$ cos($\\theta$)\")\n",
    "# plt.ylabel(r\"$v_z = \\sqrt{J}$ sin($\\theta$)\")\n",
    "plt.xlabel(r\"$z$\")\n",
    "plt.ylabel(r\"$v_z$\")\n",
    "\n",
    "# the \"density\" at z=0 (in practice, the number of points near z=0) as a function of time\n",
    "delta_n_over_ns = []\n",
    "ns = []\n",
    "\n",
    "# snapshots at which we'll save the figure\n",
    "ts_for_savefig = [0.0, 99.5, 100, 125, 150, 200]\n",
    "\n",
    "start = time.time()\n",
    "\n",
    "# simulating pointers with a dictionary... not ideal but we'll see if it works\n",
    "# source: https://realpython.com/pointers-in-python/#using-python-objects\n",
    "# WARNING: editing these variables' contents also edits the contents of thetas, Js\n",
    "variables = {\"hammer1_has_hit\": False, \"hammer2_has_hit\": False, \\\n",
    "             \"thetas\": thetas, \"Js\": Js, \"Omegas\": Omegas}\n",
    "\n",
    "def updatefig(i):\n",
    "    t = ts[i]\n",
    "    \n",
    "    if ((t % 10) == 0):\n",
    "        print(\"t = \" + str(t))\n",
    "        print(f'Elapsed t: {np.round(time.time() - start, 1)} seconds')\n",
    "\n",
    "    # update Js, Omegas iff there's a hammer\n",
    "    hammers_on = True\n",
    "    if hammers_on:\n",
    "        if ((not variables[\"hammer1_has_hit\"]) and (t >= t1)):\n",
    "            variables[\"Js\"] += 2 * n1 * A1 * np.sin(n1 * variables[\"thetas\"])\n",
    "            variables[\"Omegas\"] = compute_Omega(variables[\"Js\"])\n",
    "            variables[\"hammer1_has_hit\"] = True\n",
    "\n",
    "        if ((not variables[\"hammer2_has_hit\"]) and (t >= t2)):\n",
    "            variables[\"Js\"] += 2 * n2 * A2 * np.sin(n2 * variables[\"thetas\"])\n",
    "            variables[\"Omegas\"] = compute_Omega(variables[\"Js\"])\n",
    "            variables[\"hammer2_has_hit\"] = True\n",
    "\n",
    "    # update thetas\n",
    "    variables[\"thetas\"] += variables[\"Omegas\"] * tstep\n",
    "    variables[\"thetas\"] = np.mod(variables[\"thetas\"], 2*np.pi)\n",
    "    \n",
    "    J_is_negative = (variables[\"Js\"] < 0)\n",
    "    \n",
    "    ## move negative-J particles to J~0 orbits\n",
    "    move_negative_J_particles = True\n",
    "    if move_negative_J_particles:\n",
    "        variables[\"Js\"][J_is_negative] = 0\n",
    "    \n",
    "    ## convert coordinates to (z, v_z)\n",
    "    if use_exact_conversion:\n",
    "        zs, vzs = pol2cart_exact(variables[\"thetas\"], \n",
    "                           variables[\"Js\"])\n",
    "    else:\n",
    "        zs, vzs = pol2cart_harmonic(variables[\"thetas\"], \n",
    "                           variables[\"Js\"])\n",
    "    \n",
    "    ## compute delta n / n_0, ie, number density contrast\n",
    "    \n",
    "    # number of particles at t=0 within z_tolerance of our selected z coordinate\n",
    "    n_t = np.sum(np.abs(zs - z_offset) < z_tolerance) # / len(zs)\n",
    "    delta_n_over_n = (n_t - n_0) / n_0\n",
    "    delta_n_over_ns.append(delta_n_over_n)\n",
    "    ns.append(n_t)\n",
    "    \n",
    "    # make plot\n",
    "    data = np.transpose((zs, vzs))\n",
    "    scat.set_offsets(data)\n",
    "    plt.legend(title=f\"t={t}\", loc='upper left', labelspacing=0.)\n",
    "    #plt.title('Particle trajectories (t=' + str(t) + ')')\n",
    "\n",
    "    save_fig = False\n",
    "    if save_fig and make_animation:\n",
    "    # save figure at certain snapshots\n",
    "        if t in ts_for_savefig:\n",
    "            plt.savefig(f'Sampling trajectories (thesis)/Sampled_trajs_t={t}.png')\n",
    "    \n",
    "    return scat,\n",
    "\n",
    "make_animation = False\n",
    "if make_animation:\n",
    "    ani = animation.FuncAnimation(fig, updatefig, interval=100, frames=len(ts), \\\n",
    "            blit=True)\n",
    "    ani.save(\"Sampled_trajectories_temp.mp4\")"
   ]
  },
  {
   "cell_type": "code",
   "execution_count": null,
   "id": "49974112",
   "metadata": {},
   "outputs": [],
   "source": [
    "# number of stars that get pushed to J=0\n",
    "np.sum(variables[\"Js\"] == 0)"
   ]
  },
  {
   "cell_type": "markdown",
   "id": "9f2ae2b9",
   "metadata": {},
   "source": [
    "Source on animating a scatter plot: https://stackoverflow.com/questions/9401658/how-to-animate-a-scatter-plot"
   ]
  },
  {
   "cell_type": "markdown",
   "id": "3cade3a6",
   "metadata": {},
   "source": [
    "# density plot"
   ]
  },
  {
   "cell_type": "code",
   "execution_count": null,
   "id": "5e8e82c8",
   "metadata": {
    "scrolled": true
   },
   "outputs": [],
   "source": [
    "## define hammer params, phase space range\n",
    "\n",
    "# define the parameters of the two hammers (t_i, n_i, A_i)\n",
    "t1, t2 = 0, 200\n",
    "n1, n2 = 1, 3\n",
    "A1, A2 = 0.1, 0.2\n",
    "t_echo = (n2*t2 - n1*t1) / (n2-n1)\n",
    "\n",
    "# define ts, thetas, and Js; and, corresponding Cartesian coords\n",
    "N = (int) (5e6) # number of particles\n",
    "\n",
    "# time range\n",
    "tmin = 0\n",
    "tmax = t_echo * 1.25\n",
    "tstep = 0.5\n",
    "ts = np.arange(tmin, tmax+tstep, tstep)\n",
    "\n",
    "# Monte Carlo sample our initial conditions\n",
    "np.random.seed(2)\n",
    "thetas = (2*np.pi) *np.random.rand(N)\n",
    "Js = f_0_distro(N) # drawn from f_0(J)\n",
    "\n",
    "# initial Omega values\n",
    "Omegas = compute_Omega(Js)\n",
    "\n",
    "# initial z, v_z values\n",
    "use_exact_conversion = False\n",
    "if use_exact_conversion:\n",
    "    zs, vzs = pol2cart_exact(thetas, Js)  \n",
    "else:\n",
    "    zs, vzs = pol2cart_harmonic(thetas, Js)  \n",
    "    \n",
    "# calculate n_0 and plot initial condition\n",
    "# number of particles at t=0 within z_tolerance at a z coordinate; this is the\n",
    "# \"background\" distribution\n",
    "z_offset = 0.1\n",
    "z_tolerance = 5e-2\n",
    "n_0 = np.sum(np.abs(zs - z_offset) < z_tolerance) \n",
    "print(f'n_0 = {n_0}')\n",
    "# n_0 /= len(zs) # normalize by # of particles"
   ]
  },
  {
   "cell_type": "code",
   "execution_count": null,
   "id": "980f693f",
   "metadata": {
    "scrolled": true
   },
   "outputs": [],
   "source": [
    "# calculate delta_n_over_ns array, avoiding the animation\n",
    "start = time.time()\n",
    "delta_n_over_ns = []\n",
    "ns = []\n",
    "\n",
    "# simulating pointers with a dictionary... not ideal but we'll see if it works\n",
    "# source: https://realpython.com/pointers-in-python/#using-python-objects\n",
    "# WARNING: editing these variables' contents also edits the contents of thetas, Js\n",
    "variables = {\"hammer1_has_hit\": False, \"hammer2_has_hit\": False, \\\n",
    "             \"thetas\": thetas, \"Js\": Js, \"Omegas\": Omegas}\n",
    "\n",
    "make_animation = False\n",
    "for i in range(len(ts)):\n",
    "    updatefig(i)"
   ]
  },
  {
   "cell_type": "code",
   "execution_count": null,
   "id": "59bd0d33",
   "metadata": {
    "scrolled": false
   },
   "outputs": [],
   "source": [
    "fig = plt.figure(figsize=(16,8))\n",
    "\n",
    "plt.plot(ts, delta_n_over_ns)\n",
    "\n",
    "plt.xlabel('t')\n",
    "plt.ylabel('$\\delta n/n_0$')\n",
    "#plt.ylim(3,4)\n",
    "plt.title(f'Density contrast at z={z_offset} (Monte Carlo sampling)', pad=20)\n",
    "plt.vlines(t_echo, -.6, 0, color='black', linestyle='--')\n",
    "\n",
    "save_fig = True\n",
    "if save_fig:\n",
    "    # plt.savefig(f'sampling_deltan_N={N:.1E}_z={z_offset}.png')#,dpi=300)\n",
    "    plt.savefig(f'Sampling trajectories (hail mary)/deltan_N={N:.1E}_z={z_offset}.png')#,dpi=300)\n",
    "plt.show()"
   ]
  },
  {
   "cell_type": "code",
   "execution_count": null,
   "id": "36299932",
   "metadata": {},
   "outputs": [],
   "source": [
    "t_echo"
   ]
  },
  {
   "cell_type": "code",
   "execution_count": null,
   "id": "d07a3cb2",
   "metadata": {},
   "outputs": [],
   "source": []
  }
 ],
 "metadata": {
  "kernelspec": {
   "display_name": "Python 3",
   "language": "python",
   "name": "python3"
  },
  "language_info": {
   "codemirror_mode": {
    "name": "ipython",
    "version": 3
   },
   "file_extension": ".py",
   "mimetype": "text/x-python",
   "name": "python",
   "nbconvert_exporter": "python",
   "pygments_lexer": "ipython3",
   "version": "3.9.5"
  }
 },
 "nbformat": 4,
 "nbformat_minor": 5
}
